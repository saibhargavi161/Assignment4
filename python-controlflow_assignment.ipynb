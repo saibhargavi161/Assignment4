{
 "cells": [
  {
   "cell_type": "markdown",
   "id": "1e59d1b4-d907-42c9-9f09-8eb830ad8525",
   "metadata": {},
   "source": [
    "Basic If-Else Statements:\n",
    "1. Write a Python program to check if a given number is positive or negative."
   ]
  },
  {
   "cell_type": "code",
   "execution_count": 10,
   "id": "c9f4eba9-f45b-4f55-82c5-18213ce2a512",
   "metadata": {},
   "outputs": [
    {
     "name": "stdin",
     "output_type": "stream",
     "text": [
      "enter any number: 1\n"
     ]
    },
    {
     "name": "stdout",
     "output_type": "stream",
     "text": [
      "1 is a positive number\n"
     ]
    }
   ],
   "source": [
    "number=int(input(\"enter any number:\"))\n",
    "if number>0:\n",
    "    print(number,\"is a positive number\")\n",
    "else:\n",
    "    print(number,\"is a negative number\")"
   ]
  },
  {
   "cell_type": "code",
   "execution_count": 9,
   "id": "1d8ae108-d53e-4edd-9309-ff819eaaa90a",
   "metadata": {},
   "outputs": [
    {
     "name": "stdin",
     "output_type": "stream",
     "text": [
      "enter any number: -1\n"
     ]
    },
    {
     "name": "stdout",
     "output_type": "stream",
     "text": [
      "-1 is a negative number\n"
     ]
    }
   ],
   "source": [
    "number=int(input(\"enter any number:\"))\n",
    "if number>0:\n",
    "    print(number,\"is a positive number\")\n",
    "else:\n",
    "    print(number,\"is a negative number\")"
   ]
  },
  {
   "cell_type": "markdown",
   "id": "729de821-9882-4d21-855e-6813c5944526",
   "metadata": {},
   "source": [
    "2. Create a program that determines if a person is eligible to vote based on their age."
   ]
  },
  {
   "cell_type": "markdown",
   "id": "fb1b1c9a-31e3-47f5-9743-b3507678a54c",
   "metadata": {},
   "source": [
    "age=int(input(\"enter your age:\"))\n",
    "if age>=18:\n",
    "    print(\"person is eligible to vote\")\n",
    "else:\n",
    "    print(\"person is not eligible to vote\")"
   ]
  },
  {
   "cell_type": "code",
   "execution_count": 17,
   "id": "9d0efe03-1768-469d-8b46-b6432f9348ee",
   "metadata": {},
   "outputs": [
    {
     "name": "stdin",
     "output_type": "stream",
     "text": [
      "enter your age: 18\n"
     ]
    },
    {
     "name": "stdout",
     "output_type": "stream",
     "text": [
      "person is eligible to vote\n"
     ]
    }
   ],
   "source": [
    "age=int(input(\"enter your age:\"))\n",
    "if age>=18:\n",
    "    print(\"person is eligible to vote\")\n",
    "else:\n",
    "    print(\"person is not eligible to vote\")"
   ]
  },
  {
   "cell_type": "code",
   "execution_count": 18,
   "id": "af15fafa-22a2-407a-bb23-1b8319310edb",
   "metadata": {},
   "outputs": [
    {
     "name": "stdin",
     "output_type": "stream",
     "text": [
      "enter your age: 17\n"
     ]
    },
    {
     "name": "stdout",
     "output_type": "stream",
     "text": [
      "person is not eligible to vote\n"
     ]
    }
   ],
   "source": [
    "age=int(input(\"enter your age:\"))\n",
    "if age>=18:\n",
    "    print(\"person is eligible to vote\")\n",
    "else:\n",
    "    print(\"person is not eligible to vote\")"
   ]
  },
  {
   "cell_type": "markdown",
   "id": "169fd386-5fbe-4890-97c0-87081b2248d7",
   "metadata": {},
   "source": [
    "3. Develop a program to find the maximum of two numbers using if-else statements."
   ]
  },
  {
   "cell_type": "code",
   "execution_count": 20,
   "id": "135bb127-d6e8-4b1f-95a0-09ed31910ef0",
   "metadata": {},
   "outputs": [
    {
     "name": "stdin",
     "output_type": "stream",
     "text": [
      "enter a number: 2\n",
      "enter a number: 1\n"
     ]
    },
    {
     "name": "stdout",
     "output_type": "stream",
     "text": [
      "2 is maximum number\n"
     ]
    }
   ],
   "source": [
    "a=int(input(\"enter a number:\"))\n",
    "b=int(input(\"enter a number:\"))\n",
    "if a>b:\n",
    "    print(a,\"is maximum number\")\n",
    "else:\n",
    "    print(b,\"is maximum number\")"
   ]
  },
  {
   "cell_type": "markdown",
   "id": "744b8dfa-dd17-45e8-936f-c384d41e2d87",
   "metadata": {},
   "source": [
    "4. Write a Python script to classify a given year as a leap year or not."
   ]
  },
  {
   "cell_type": "code",
   "execution_count": 2,
   "id": "8b37b203-1ef4-41da-a825-d0e6f8dac0e7",
   "metadata": {},
   "outputs": [
    {
     "name": "stdin",
     "output_type": "stream",
     "text": [
      "enter year: 2000\n"
     ]
    },
    {
     "name": "stdout",
     "output_type": "stream",
     "text": [
      "2000 is a leap year\n"
     ]
    }
   ],
   "source": [
    "year=int(input(\"enter year:\"))\n",
    "if (year%4==0 and year%100!=0) or (year%400==0):\n",
    "    print(year,\"is a leap year\")\n",
    "else:\n",
    "    print(\"not a leap year\")"
   ]
  },
  {
   "cell_type": "code",
   "execution_count": 32,
   "id": "43e937bc-1f47-4b03-9634-b12a2fb6dd99",
   "metadata": {},
   "outputs": [
    {
     "name": "stdin",
     "output_type": "stream",
     "text": [
      "enter year: 1999\n"
     ]
    },
    {
     "name": "stdout",
     "output_type": "stream",
     "text": [
      "not a leap year\n"
     ]
    }
   ],
   "source": [
    "year=int(input(\"enter year:\"))\n",
    "if (year%4==0 and year%100!=0) or (year%400==0):\n",
    "    print(year,\"is a leap year\")\n",
    "else:\n",
    "    print(\"not a leap year\")"
   ]
  },
  {
   "cell_type": "markdown",
   "id": "66cd3cc5-0109-4752-b2d9-fc069212ea38",
   "metadata": {},
   "source": [
    "5. Create a program that checks whether a character is a vowel or a consonant."
   ]
  },
  {
   "cell_type": "code",
   "execution_count": 13,
   "id": "1cdcf11b-8962-44c0-bbeb-256b6564ef97",
   "metadata": {},
   "outputs": [
    {
     "name": "stdin",
     "output_type": "stream",
     "text": [
      "enter any character: e\n"
     ]
    },
    {
     "name": "stdout",
     "output_type": "stream",
     "text": [
      "character is vowel\n"
     ]
    }
   ],
   "source": [
    "character=input(\"enter any character:\")   #take input from user   \n",
    "character=character.lower()               #converting input to lower case\n",
    "if character in 'aeiou':\n",
    "    print(\"character is vowel\")\n",
    "else:\n",
    "    print(\"character is consonant\")"
   ]
  },
  {
   "cell_type": "code",
   "execution_count": 12,
   "id": "fd3f8c2c-e263-45b0-8d80-501b0066abbd",
   "metadata": {},
   "outputs": [
    {
     "name": "stdin",
     "output_type": "stream",
     "text": [
      "enter any character: A\n"
     ]
    },
    {
     "name": "stdout",
     "output_type": "stream",
     "text": [
      "character is vowel\n"
     ]
    }
   ],
   "source": [
    "character=input(\"enter any character:\")   #take input from user   \n",
    "character=character.lower()               #converting input to lower case\n",
    "if character in 'aeiou':\n",
    "    print(\"character is vowel\")\n",
    "else:\n",
    "    print(\"character is consonant\")"
   ]
  },
  {
   "cell_type": "code",
   "execution_count": 11,
   "id": "3df57f60-4e0a-4cf8-9241-95373123f741",
   "metadata": {},
   "outputs": [
    {
     "name": "stdin",
     "output_type": "stream",
     "text": [
      "enter any character: l\n"
     ]
    },
    {
     "name": "stdout",
     "output_type": "stream",
     "text": [
      "character is consonant\n"
     ]
    }
   ],
   "source": [
    "character=input(\"enter any character:\")   #take input from user   \n",
    "character=character.lower()               #converting input to lower case\n",
    "if character in 'aeiou':\n",
    "    print(\"character is vowel\")\n",
    "else:\n",
    "    print(\"character is consonant\")\n"
   ]
  },
  {
   "cell_type": "markdown",
   "id": "154ecd33-2d79-4a98-823c-28cc0f2e0d7f",
   "metadata": {},
   "source": [
    "6. Implement a program to determine whether a given number is even or odd."
   ]
  },
  {
   "cell_type": "code",
   "execution_count": 43,
   "id": "214b3787-41ab-43d6-9827-d906790f1b98",
   "metadata": {},
   "outputs": [
    {
     "name": "stdin",
     "output_type": "stream",
     "text": [
      "enter any number: 2\n"
     ]
    },
    {
     "name": "stdout",
     "output_type": "stream",
     "text": [
      "2 is an even number\n"
     ]
    }
   ],
   "source": [
    "number=int(input(\"enter any number:\"))\n",
    "if number%2==0:\n",
    "    print(number,\"is an even number\")\n",
    "else:    \n",
    "    print(number,\"is an odd number\")"
   ]
  },
  {
   "cell_type": "code",
   "execution_count": 44,
   "id": "2adb92e1-8e1a-4d6e-857f-a5cebbb9ea2d",
   "metadata": {},
   "outputs": [
    {
     "name": "stdin",
     "output_type": "stream",
     "text": [
      "enter any number: 3\n"
     ]
    },
    {
     "name": "stdout",
     "output_type": "stream",
     "text": [
      "3 is an odd number\n"
     ]
    }
   ],
   "source": [
    "number=int(input(\"enter any number:\"))\n",
    "if number%2==0:\n",
    "    print(number,\"is an even number\")\n",
    "else:    \n",
    "    print(number,\"is an odd number\")"
   ]
  },
  {
   "cell_type": "code",
   "execution_count": 45,
   "id": "06c24723-86f6-4088-be2c-09d31553b4df",
   "metadata": {},
   "outputs": [
    {
     "name": "stdin",
     "output_type": "stream",
     "text": [
      "enter any number: 0\n"
     ]
    },
    {
     "name": "stdout",
     "output_type": "stream",
     "text": [
      "0 is an even number\n"
     ]
    }
   ],
   "source": [
    "number=int(input(\"enter any number:\"))\n",
    "if number%2==0:\n",
    "    print(number,\"is an even number\")\n",
    "else:    \n",
    "    print(number,\"is an odd number\")"
   ]
  },
  {
   "cell_type": "markdown",
   "id": "a599ce38-b448-4cb3-adf3-c2b508e9e266",
   "metadata": {},
   "source": [
    "7. Write a Python function to calculate the absolute value of a number without using the `abs()` function."
   ]
  },
  {
   "cell_type": "code",
   "execution_count": 5,
   "id": "f35dd78e-cd10-4abf-b507-629fbd2bd508",
   "metadata": {},
   "outputs": [
    {
     "name": "stdin",
     "output_type": "stream",
     "text": [
      "enter any number: -10\n"
     ]
    },
    {
     "name": "stdout",
     "output_type": "stream",
     "text": [
      "absolute value of a number is: 10\n"
     ]
    }
   ],
   "source": [
    "number=int(input(\"enter any number:\"))\n",
    "if number<0:\n",
    "    print(\"absolute value of a number is:\",-number)\n",
    "else:    \n",
    "    print(\"absolute value of a number is:\",number)"
   ]
  },
  {
   "cell_type": "markdown",
   "id": "587a31f2-a468-4747-bd2b-9d56ac42cf08",
   "metadata": {},
   "source": [
    "8. Develop a program that determines the largest of three given numbers using if-else statements."
   ]
  },
  {
   "cell_type": "code",
   "execution_count": 6,
   "id": "4b0f857b-d8b7-4b4e-be30-fccaeed8e390",
   "metadata": {},
   "outputs": [
    {
     "name": "stdin",
     "output_type": "stream",
     "text": [
      "enter any number: 4\n",
      "enter any number: 2\n",
      "enter any number: 5\n"
     ]
    },
    {
     "name": "stdout",
     "output_type": "stream",
     "text": [
      "5 is the largest of three given numbers\n"
     ]
    }
   ],
   "source": [
    "a=int(input(\"enter any number:\"))\n",
    "b=int(input(\"enter any number:\"))\n",
    "c=int(input(\"enter any number:\"))\n",
    "if (a>b and a>c):\n",
    "    print(a,\"is the largest of three given numbers\")\n",
    "elif (b>a and b>c):\n",
    "    print(b,\"is the largest of three given numbers\")\n",
    "else:\n",
    "    print(c,\"is the largest of three given numbers\")\n"
   ]
  },
  {
   "cell_type": "markdown",
   "id": "eab86fc8-b8ee-4b56-b925-98748473ee13",
   "metadata": {},
   "source": [
    "9. Create a program that checks if a given string is a palindrome.\n"
   ]
  },
  {
   "cell_type": "code",
   "execution_count": 9,
   "id": "13e274e1-858f-41d8-a9d8-39fd5e357572",
   "metadata": {},
   "outputs": [
    {
     "name": "stdin",
     "output_type": "stream",
     "text": [
      "enter any string: level\n"
     ]
    },
    {
     "name": "stdout",
     "output_type": "stream",
     "text": [
      "given string is a palindrome\n"
     ]
    }
   ],
   "source": [
    "string=input(\"enter any string:\")\n",
    "reversed_string=string[::-1]\n",
    "if string==reversed_string:\n",
    "    print(\"given string is a palindrome\")"
   ]
  },
  {
   "cell_type": "markdown",
   "id": "264255a5-3126-496c-9ff5-a340d250d104",
   "metadata": {},
   "source": [
    "10. Write a Python program to calculate the grade based on a student's score."
   ]
  },
  {
   "cell_type": "code",
   "execution_count": 7,
   "id": "94ec36bc-0d02-4032-b2c8-536ab481cb3d",
   "metadata": {},
   "outputs": [
    {
     "name": "stdin",
     "output_type": "stream",
     "text": [
      "Enter your score: 28\n"
     ]
    },
    {
     "name": "stdout",
     "output_type": "stream",
     "text": [
      "grade is fail\n"
     ]
    }
   ],
   "source": [
    "score=int(input(\"Enter your score:\"))\n",
    "if score>=30 and score<=100:\n",
    "    print(\"grade is pass\")\n",
    "else:\n",
    "    print(\"grade is fail\")"
   ]
  },
  {
   "cell_type": "code",
   "execution_count": 8,
   "id": "54fceb4c-5411-49cb-be55-c6f45a61e4fe",
   "metadata": {},
   "outputs": [
    {
     "name": "stdin",
     "output_type": "stream",
     "text": [
      "Enter your score: 90\n"
     ]
    },
    {
     "name": "stdout",
     "output_type": "stream",
     "text": [
      "grade is pass\n"
     ]
    }
   ],
   "source": [
    "score=int(input(\"Enter your score:\"))\n",
    "if score>=30 and score<=100:\n",
    "    print(\"grade is pass\")\n",
    "else:\n",
    "    print(\"grade is fail\")"
   ]
  },
  {
   "cell_type": "markdown",
   "id": "6f57dd3b-84de-4c09-b771-23dcd6cdb396",
   "metadata": {},
   "source": [
    "Nested If-Else Statements:\n",
    "\n",
    "11. Write a program to find the largest among three numbers using nested if-else statements."
   ]
  },
  {
   "cell_type": "code",
   "execution_count": 17,
   "id": "e4fae9b3-a871-4238-b98d-77d023f839dd",
   "metadata": {},
   "outputs": [
    {
     "name": "stdin",
     "output_type": "stream",
     "text": [
      "enter any number: 4\n",
      "enter any number: 2\n",
      "enter any number: 6\n"
     ]
    },
    {
     "name": "stdout",
     "output_type": "stream",
     "text": [
      "6 is largest\n"
     ]
    }
   ],
   "source": [
    "a=int(input(\"enter any number:\"))\n",
    "b=int(input(\"enter any number:\"))\n",
    "c=int(input(\"enter any number:\"))\n",
    "if a>=b:\n",
    "    if a>=c:\n",
    "        print(a,\"is largest\")\n",
    "    else:\n",
    "        print(c,\"is largest\")\n",
    "else:\n",
    "    if b>=c:\n",
    "        print(b,\"is largest\")\n",
    "    else:\n",
    "        print(c,\"is largest\")"
   ]
  },
  {
   "cell_type": "markdown",
   "id": "6de72f89-6259-4b48-a2d8-f7f455cdda7d",
   "metadata": {},
   "source": [
    "12. Implement a program to determine if a triangle is equilateral, isosceles, or scalene."
   ]
  },
  {
   "cell_type": "code",
   "execution_count": 5,
   "id": "e812e441-a421-48da-8521-2964234e00df",
   "metadata": {},
   "outputs": [
    {
     "name": "stdin",
     "output_type": "stream",
     "text": [
      "enter side1 3\n",
      "enter side2 2\n",
      "enter side3 3\n"
     ]
    },
    {
     "name": "stdout",
     "output_type": "stream",
     "text": [
      "isoceles\n"
     ]
    }
   ],
   "source": [
    "s1=int(input(\"enter side1\"))\n",
    "s2=int(input(\"enter side2\"))\n",
    "s3=int(input(\"enter side3\"))\n",
    "if s1==s2:\n",
    "    if s2==s3:\n",
    "        print(\"equilateral\")\n",
    "    else:\n",
    "        print(\"isoceles\")\n",
    "elif s1==s3 or s2==s3:\n",
    "    print(\"isoceles\")\n",
    "else:\n",
    "    print(\"scalene\")"
   ]
  },
  {
   "cell_type": "markdown",
   "id": "07fd703b-b0f1-4f89-b896-9d5bb16b94b3",
   "metadata": {},
   "source": [
    "13. Develop a program that checks if a year is a leap year and also if it is a century year."
   ]
  },
  {
   "cell_type": "code",
   "execution_count": 7,
   "id": "f11643a9-dc12-432e-8f81-fc613151fab5",
   "metadata": {},
   "outputs": [
    {
     "name": "stdin",
     "output_type": "stream",
     "text": [
      "enter year: 2024\n"
     ]
    },
    {
     "name": "stdout",
     "output_type": "stream",
     "text": [
      "2024 is a leap year\n",
      "2024 is not a leap year\n"
     ]
    }
   ],
   "source": [
    "year=int(input(\"enter year:\"))\n",
    "#to check a leap year\n",
    "if (year%4==0 and year%100!=0) or (year%400==0):\n",
    "    print(year,\"is a leap year\")\n",
    "else:\n",
    "    print(\"not a leap year\")\n",
    "#to check a century year\n",
    "if year%100==0:\n",
    "    print(year,\"is a leap year\")\n",
    "else:\n",
    "    print(year,\"is not a leap year\")"
   ]
  },
  {
   "cell_type": "markdown",
   "id": "02640c0e-e8bc-4a14-821d-d1479af3e347",
   "metadata": {},
   "source": [
    "14. Write a Python script to determine if a number is positive, negative, or zero."
   ]
  },
  {
   "cell_type": "code",
   "execution_count": 10,
   "id": "a1650c4c-f3d8-430b-96ac-c474d84cfee3",
   "metadata": {},
   "outputs": [
    {
     "name": "stdin",
     "output_type": "stream",
     "text": [
      "enter any number: 0\n"
     ]
    },
    {
     "name": "stdout",
     "output_type": "stream",
     "text": [
      "number is zero\n"
     ]
    }
   ],
   "source": [
    "number=int(input(\"enter any number:\"))\n",
    "if number>=0:\n",
    "    if number>0:\n",
    "        print(\"number is positive\")\n",
    "    else:\n",
    "        print(\"number is zero\")\n",
    "else:\n",
    "    print(\"number is negative\")"
   ]
  },
  {
   "cell_type": "code",
   "execution_count": 11,
   "id": "473d96aa-fe8f-41f5-9844-3ab1481d557f",
   "metadata": {},
   "outputs": [
    {
     "name": "stdin",
     "output_type": "stream",
     "text": [
      "enter any number: 10\n"
     ]
    },
    {
     "name": "stdout",
     "output_type": "stream",
     "text": [
      "number is positive\n"
     ]
    }
   ],
   "source": [
    "number=int(input(\"enter any number:\"))\n",
    "if number>=0:\n",
    "    if number>0:\n",
    "        print(\"number is positive\")\n",
    "    else:\n",
    "        print(\"number is zero\")\n",
    "else:\n",
    "    print(\"number is negative\")"
   ]
  },
  {
   "cell_type": "code",
   "execution_count": 12,
   "id": "b81661b8-2aab-4a44-8dc9-296e096660bc",
   "metadata": {},
   "outputs": [
    {
     "name": "stdin",
     "output_type": "stream",
     "text": [
      "enter any number: -2\n"
     ]
    },
    {
     "name": "stdout",
     "output_type": "stream",
     "text": [
      "number is negative\n"
     ]
    }
   ],
   "source": [
    "number=int(input(\"enter any number:\"))\n",
    "if number>=0:\n",
    "    if number>0:\n",
    "        print(\"number is positive\")\n",
    "    else:\n",
    "        print(\"number is zero\")\n",
    "else:\n",
    "    print(\"number is negative\")"
   ]
  },
  {
   "cell_type": "markdown",
   "id": "8a138492-6a10-4fc9-8d1e-cd6025b96f45",
   "metadata": {},
   "source": [
    "15. Create a program to check if a person is a teenager (between 13 and 19 years old)."
   ]
  },
  {
   "cell_type": "code",
   "execution_count": 14,
   "id": "39c7d257-e723-4fa9-866a-8a7da187ca91",
   "metadata": {},
   "outputs": [
    {
     "name": "stdin",
     "output_type": "stream",
     "text": [
      "enter your age: 13\n"
     ]
    },
    {
     "name": "stdout",
     "output_type": "stream",
     "text": [
      "person is teenager\n"
     ]
    }
   ],
   "source": [
    "age=int(input(\"enter your age:\"))\n",
    "if age>=13:\n",
    "    if age<=19:\n",
    "        print(\"person is teenager\")\n",
    "    else:\n",
    "        print(\"not a teenager\")\n",
    "else:\n",
    "    print(\"not a teenager\")"
   ]
  },
  {
   "cell_type": "code",
   "execution_count": 15,
   "id": "0260932e-c276-40b2-b2ba-e28adeeaf8c6",
   "metadata": {},
   "outputs": [
    {
     "name": "stdin",
     "output_type": "stream",
     "text": [
      "enter your age: 21\n"
     ]
    },
    {
     "name": "stdout",
     "output_type": "stream",
     "text": [
      "not a teenager\n"
     ]
    }
   ],
   "source": [
    "age=int(input(\"enter your age:\"))\n",
    "if age>=13:\n",
    "    if age<=19:\n",
    "        print(\"person is teenager\")\n",
    "    else:\n",
    "        print(\"not a teenager\")\n",
    "else:\n",
    "    print(\"not a teenager\")"
   ]
  },
  {
   "cell_type": "markdown",
   "id": "7814ecfc-f2c2-46de-b220-d8e3df5dd444",
   "metadata": {},
   "source": [
    "16. Develop a program that determines the type of angle based on its measure (acute, obtuse, or right)."
   ]
  },
  {
   "cell_type": "code",
   "execution_count": 14,
   "id": "bb027831-9412-4376-bbdf-8cf3194f3802",
   "metadata": {},
   "outputs": [
    {
     "name": "stdin",
     "output_type": "stream",
     "text": [
      "enter any angle 30\n"
     ]
    },
    {
     "name": "stdout",
     "output_type": "stream",
     "text": [
      "acute angle\n"
     ]
    }
   ],
   "source": [
    "angle=float(input(\"enter any angle\"))\n",
    "if angle>=90:\n",
    "    if angle==90:\n",
    "        print(\"right\")\n",
    "    else: \n",
    "        print(\"obtuse\")\n",
    "else:\n",
    "    print(\"acute angle\")"
   ]
  },
  {
   "cell_type": "code",
   "execution_count": 15,
   "id": "0a07ff34-9cbe-4f54-adb8-3c800e8968f8",
   "metadata": {},
   "outputs": [
    {
     "name": "stdin",
     "output_type": "stream",
     "text": [
      "enter any angle 90\n"
     ]
    },
    {
     "name": "stdout",
     "output_type": "stream",
     "text": [
      "right\n"
     ]
    }
   ],
   "source": [
    "angle=float(input(\"enter any angle\"))\n",
    "if angle>=90:\n",
    "    if angle==90:\n",
    "        print(\"right\")\n",
    "    else: \n",
    "        print(\"obtuse\")\n",
    "else:\n",
    "    print(\"acute angle\")"
   ]
  },
  {
   "cell_type": "code",
   "execution_count": 16,
   "id": "512af45e-fc97-4182-a364-c94cdc9f942c",
   "metadata": {},
   "outputs": [
    {
     "name": "stdin",
     "output_type": "stream",
     "text": [
      "enter any angle 180\n"
     ]
    },
    {
     "name": "stdout",
     "output_type": "stream",
     "text": [
      "obtuse\n"
     ]
    }
   ],
   "source": [
    "angle=float(input(\"enter any angle\"))\n",
    "if angle>=90:\n",
    "    if angle==90:\n",
    "        print(\"right\")\n",
    "    else: \n",
    "        print(\"obtuse\")\n",
    "else:\n",
    "    print(\"acute angle\")"
   ]
  },
  {
   "cell_type": "markdown",
   "id": "25f0d1db-4b4e-4f8a-b763-b086b67e6fe5",
   "metadata": {},
   "source": [
    "17. Write a Python program to calculate the roots of a quadratic equation."
   ]
  },
  {
   "cell_type": "code",
   "execution_count": 4,
   "id": "b1a8d2e2-a52e-486e-a844-16bd16f19b3b",
   "metadata": {},
   "outputs": [
    {
     "name": "stdin",
     "output_type": "stream",
     "text": [
      "enter a value: 2\n",
      "enter b value: -7\n",
      "enter c value: 3\n"
     ]
    },
    {
     "name": "stdout",
     "output_type": "stream",
     "text": [
      "root1 is: 3.0\n",
      "root2 is: 0.5\n"
     ]
    }
   ],
   "source": [
    "a=int(input(\"enter a value:\"))\n",
    "b=int(input(\"enter b value:\"))\n",
    "c=int(input(\"enter c value:\"))\n",
    "discriminant=b**2-4*a*c\n",
    "if discriminant==0:\n",
    "    root=-b/(2*a)\n",
    "    print(\"root is:\",root)\n",
    "else:\n",
    "    if discriminant>0:\n",
    "        root1=(-b+(discriminant**0.5))/(2*a)\n",
    "        root2=(-b-(discriminant**0.5))/(2*a)\n",
    "        print(\"root1 is:\",root1)  \n",
    "        print(\"root2 is:\",root2) \n",
    "    else:\n",
    "        realpart=-b/(2*a)\n",
    "        imaginarypart=((-discriminant)**0.5)/(2*a)\n",
    "        root1=complex(realpart,imaginarypart)\n",
    "        root2=complex(realpart,-imaginarypart)\n",
    "        print(\"root1 is:\",root1)  \n",
    "        print(\"root2 is:\",root2) "
   ]
  },
  {
   "cell_type": "markdown",
   "id": "0d925d6b-d863-4b0a-b06a-eb66b133bdbe",
   "metadata": {},
   "source": [
    "18. Implement a program to determine the day of the week based on a user-provided number (1 for Monday, 2\n",
    "for Tuesday, etc.)."
   ]
  },
  {
   "cell_type": "code",
   "execution_count": 5,
   "id": "29c14e51-a3ce-4f10-9224-7850a0b66a6c",
   "metadata": {},
   "outputs": [
    {
     "name": "stdin",
     "output_type": "stream",
     "text": [
      "enter a number 2\n"
     ]
    },
    {
     "name": "stdout",
     "output_type": "stream",
     "text": [
      "The day of the week: Tuesday\n"
     ]
    }
   ],
   "source": [
    "number=int(input(\"enter a number\"))\n",
    "if 1<=number<=7:\n",
    "    if number==1:\n",
    "        day=\"Monday\"\n",
    "    if number==2:\n",
    "        day=\"Tuesday\"   \n",
    "    if number==3:\n",
    "        day=\"Wednesday\" \n",
    "    if number==4:\n",
    "        day=\"Tuesday\"    \n",
    "    if number==5:\n",
    "        day=\"Friday\"   \n",
    "    if number==6:\n",
    "        day=\"Saturday\"\n",
    "    if number==7:\n",
    "        day=\"Sunday\"\n",
    "    print(\"The day of the week:\",day)\n",
    "    "
   ]
  },
  {
   "cell_type": "markdown",
   "id": "d91bd49a-18d9-4167-bc2e-f6ba789c3506",
   "metadata": {},
   "source": [
    "19. Create a program that determines if a year is a leap year and also if it is evenly divisible by 400.\n"
   ]
  },
  {
   "cell_type": "code",
   "execution_count": 2,
   "id": "8184082e-71f1-40ed-b8e1-4d0914281dc4",
   "metadata": {},
   "outputs": [
    {
     "name": "stdin",
     "output_type": "stream",
     "text": [
      "enter any year: 2023\n"
     ]
    },
    {
     "name": "stdout",
     "output_type": "stream",
     "text": [
      "2023 is not a leap year\n"
     ]
    }
   ],
   "source": [
    "year=int(input(\"enter any year:\"))\n",
    "if year%4==0:\n",
    "    if year%100!=0:\n",
    "        if year%400==0:\n",
    "            print(year,\"is a leap year\")\n",
    "        else:    \n",
    "            print(year,\"is not a leap year\") \n",
    "    else:\n",
    "        print(year,\"is not a leap year\") \n",
    "else:\n",
    "    print(year,\"is not a leap year\") "
   ]
  },
  {
   "cell_type": "markdown",
   "id": "169dd8cd-ddd8-472a-8ec1-46d2653ce2ab",
   "metadata": {},
   "source": [
    "20. Develop a program that checks if a given number is prime or not using nested if-else statements."
   ]
  },
  {
   "cell_type": "code",
   "execution_count": 3,
   "id": "0e94aa85-ffb8-4d97-b786-3b7c200e7837",
   "metadata": {},
   "outputs": [
    {
     "name": "stdin",
     "output_type": "stream",
     "text": [
      "enter any number: 3\n"
     ]
    },
    {
     "name": "stdout",
     "output_type": "stream",
     "text": [
      "3 is not a prime number\n"
     ]
    }
   ],
   "source": [
    "number=int(input(\"enter any number:\"))\n",
    "if number<=1:\n",
    "    print(number,\"is not a prime number\")\n",
    "elif number==2:\n",
    "    print(number,\"is a prime number\")\n",
    "else:    \n",
    "    for i in range(2,number):\n",
    "        if number%i==0:\n",
    "            print(number,\"is not a prime number\")\n",
    "        else:\n",
    "            print(number,\"is not a prime number\")   "
   ]
  },
  {
   "cell_type": "markdown",
   "id": "8e6db00e-5628-48d3-81af-ff26ff473e2a",
   "metadata": {},
   "source": [
    "Elif Statements:\n",
    "    \n",
    "21. Write a Python program to assign grades based on different ranges of scores using elif statements."
   ]
  },
  {
   "cell_type": "code",
   "execution_count": 4,
   "id": "bf0c3cd0-154c-4227-a89a-c9b09940ae9f",
   "metadata": {},
   "outputs": [
    {
     "name": "stdin",
     "output_type": "stream",
     "text": [
      "Enter your score: 95\n"
     ]
    },
    {
     "name": "stdout",
     "output_type": "stream",
     "text": [
      "grade is A+\n"
     ]
    }
   ],
   "source": [
    "score=int(input(\"Enter your score:\"))\n",
    "if score>=90 and score<=100:\n",
    "    print(\"grade is A+\")\n",
    "elif score>=80 and score<=89:\n",
    "    print(\"grade is A\") \n",
    "elif score>=70 and score<=79:\n",
    "    print(\"grade is B\")   \n",
    "elif score>=60 and score<=69:\n",
    "    print(\"grade is C\")\n",
    "elif score>=50 and score<=59:\n",
    "    print(\"grade is D\")    \n",
    "elif score>=40 and score<=49:\n",
    "    print(\"grade is E\")\n",
    "else:\n",
    "    print(\"grade is F\")"
   ]
  },
  {
   "cell_type": "markdown",
   "id": "467ce942-e6e7-4aab-a449-42e21e9bdd79",
   "metadata": {},
   "source": [
    "22. Implement a program to determine the type of a triangle based on its angles."
   ]
  },
  {
   "cell_type": "code",
   "execution_count": 40,
   "id": "d8c1633c-35bf-4855-8fae-9e19c7c3cd9a",
   "metadata": {},
   "outputs": [
    {
     "name": "stdin",
     "output_type": "stream",
     "text": [
      "enter any angle1: 60\n",
      "enter any angle2: 60\n",
      "enter any angle3: 60\n"
     ]
    },
    {
     "name": "stdout",
     "output_type": "stream",
     "text": [
      "equilateral triangle\n"
     ]
    }
   ],
   "source": [
    "angle1=float(input(\"enter any angle1:\"))\n",
    "angle2=float(input(\"enter any angle2:\"))\n",
    "angle3=float(input(\"enter any angle3:\"))  \n",
    "if angle1==angle2==angle3==60:\n",
    "    print(\"equilateral triangle\")   \n",
    "elif angle1==angle2 or angle2==angle3 or angle1==angle3:\n",
    "    print(\"isoceles triangle\")\n",
    "else:\n",
    "    print(\"scalene triangle\")"
   ]
  },
  {
   "cell_type": "code",
   "execution_count": 41,
   "id": "d0edc806-9aff-49e2-891b-0bd6b0861aae",
   "metadata": {},
   "outputs": [
    {
     "name": "stdin",
     "output_type": "stream",
     "text": [
      "enter any angle1: 45\n",
      "enter any angle2: 45\n",
      "enter any angle3: 90\n"
     ]
    },
    {
     "name": "stdout",
     "output_type": "stream",
     "text": [
      "isoceles triangle\n"
     ]
    }
   ],
   "source": [
    "angle1=float(input(\"enter any angle1:\"))\n",
    "angle2=float(input(\"enter any angle2:\"))\n",
    "angle3=float(input(\"enter any angle3:\"))  \n",
    "if angle1==angle2==angle3==60:\n",
    "    print(\"equilateral triangle\")   \n",
    "elif angle1==angle2 or angle2==angle3 or angle1==angle3:\n",
    "    print(\"isoceles triangle\")\n",
    "else:\n",
    "    print(\"scalene triangle\")"
   ]
  },
  {
   "cell_type": "code",
   "execution_count": 42,
   "id": "eac539f7-8ffa-4891-8c39-9c7ea383a98e",
   "metadata": {},
   "outputs": [
    {
     "name": "stdin",
     "output_type": "stream",
     "text": [
      "enter any angle1: 30\n",
      "enter any angle2: 60\n",
      "enter any angle3: 90\n"
     ]
    },
    {
     "name": "stdout",
     "output_type": "stream",
     "text": [
      "scalene triangle\n"
     ]
    }
   ],
   "source": [
    "angle1=float(input(\"enter any angle1:\"))\n",
    "angle2=float(input(\"enter any angle2:\"))\n",
    "angle3=float(input(\"enter any angle3:\"))  \n",
    "if angle1==angle2==angle3==60:\n",
    "    print(\"equilateral triangle\")   \n",
    "elif angle1==angle2 or angle2==angle3 or angle1==angle3:\n",
    "    print(\"isoceles triangle\")\n",
    "else:\n",
    "    print(\"scalene triangle\")"
   ]
  },
  {
   "cell_type": "markdown",
   "id": "5e645d17-2388-4a5c-a7e2-9fbd3a672958",
   "metadata": {},
   "source": [
    "23. Develop a program to categorize a given person's BMI into underweight, normal, overweight, or obese using\n",
    "elif statements."
   ]
  },
  {
   "cell_type": "code",
   "execution_count": 3,
   "id": "79510750-700c-408b-b58a-e09eaea29ecf",
   "metadata": {},
   "outputs": [
    {
     "name": "stdin",
     "output_type": "stream",
     "text": [
      "Enter weight in kilograms:  70\n",
      "Enter height in meters: 1.75\n"
     ]
    },
    {
     "name": "stdout",
     "output_type": "stream",
     "text": [
      "22.857142857142858\n",
      "Normal\n"
     ]
    }
   ],
   "source": [
    "weight = float(input(\"Enter weight in kilograms: \"))\n",
    "height = float(input(\"Enter height in meters:\"))\n",
    "bmi = weight / (height ** 2)\n",
    "if bmi < 18.5:\n",
    "    category = \"Underweight\"\n",
    "elif 18.5 <= bmi < 25:\n",
    "    category = \"Normal\"\n",
    "elif 25 <= bmi < 30:\n",
    "    category = \"Overweight\"\n",
    "else:\n",
    "    category = \"Obese\"\n",
    "print(bmi)\n",
    "print(category)"
   ]
  },
  {
   "cell_type": "markdown",
   "id": "e2c87c2c-3d25-4419-bbaf-e8fe7fb4cf76",
   "metadata": {},
   "source": [
    "24. Create a program that determines whether a given number is positive, negative, or zero using elif\n",
    "statements."
   ]
  },
  {
   "cell_type": "code",
   "execution_count": 4,
   "id": "17f75182-1241-4964-b974-8ee8782fbde2",
   "metadata": {},
   "outputs": [
    {
     "name": "stdin",
     "output_type": "stream",
     "text": [
      "Enter a number:  4\n"
     ]
    },
    {
     "name": "stdout",
     "output_type": "stream",
     "text": [
      "The number is positive.\n"
     ]
    }
   ],
   "source": [
    "number = float(input(\"Enter a number: \"))\n",
    "if number > 0:\n",
    "    print(\"The number is positive.\")\n",
    "elif number < 0:\n",
    "    print(\"The number is negative.\")\n",
    "else:\n",
    "    print(\"The number is zero.\")"
   ]
  },
  {
   "cell_type": "markdown",
   "id": "8f3f94bd-d9c2-4a83-b111-b07a0084b9a0",
   "metadata": {},
   "source": [
    "25. Write a Python script to determine the type of a character (uppercase, lowercase, or special) using elif\n",
    "statements."
   ]
  },
  {
   "cell_type": "code",
   "execution_count": 5,
   "id": "7af27bed-4aa2-4dd5-b8b3-c75d67f017e1",
   "metadata": {},
   "outputs": [
    {
     "name": "stdin",
     "output_type": "stream",
     "text": [
      "Enter a character:  A\n"
     ]
    },
    {
     "name": "stdout",
     "output_type": "stream",
     "text": [
      "The character is uppercase.\n"
     ]
    }
   ],
   "source": [
    "char = input(\"Enter a character: \")\n",
    "if char.isalpha():\n",
    "    if char.isupper():\n",
    "        print(\"The character is uppercase.\")\n",
    "    elif char.islower():\n",
    "        print(\"The character is lowercase.\")\n",
    "else:\n",
    "    print(\"The character is special.\")"
   ]
  },
  {
   "cell_type": "markdown",
   "id": "b490f189-625a-4996-b3ee-c44ba3ede44e",
   "metadata": {},
   "source": [
    "26. Implement a program to calculate the discounted price based on different purchase amounts using elif\n",
    "statements."
   ]
  },
  {
   "cell_type": "code",
   "execution_count": 6,
   "id": "476244c9-246c-40eb-add9-e84951c59957",
   "metadata": {},
   "outputs": [
    {
     "name": "stdin",
     "output_type": "stream",
     "text": [
      "Enter the purchase amount: $ 2000\n"
     ]
    },
    {
     "name": "stdout",
     "output_type": "stream",
     "text": [
      "2000.0\n",
      "15.0\n",
      "1700.0\n"
     ]
    }
   ],
   "source": [
    "purchase_amount = float(input(\"Enter the purchase amount: $\"))\n",
    "if purchase_amount < 100:\n",
    "    discount_rate = 0\n",
    "elif 100 <= purchase_amount < 500:\n",
    "    discount_rate = 0.05\n",
    "elif 500 <= purchase_amount < 1000:\n",
    "    discount_rate = 0.1\n",
    "else:\n",
    "    discount_rate = 0.15\n",
    "discounted_price = purchase_amount - (purchase_amount * discount_rate)\n",
    "print(purchase_amount)\n",
    "print(discount_rate*100)\n",
    "print(discounted_price)"
   ]
  },
  {
   "cell_type": "markdown",
   "id": "099cb4f9-32bf-46e2-83af-f6389a8fe994",
   "metadata": {},
   "source": [
    "27. Develop a program to calculate the electricity bill based on different consumption slabs using elif\n",
    "statements."
   ]
  },
  {
   "cell_type": "code",
   "execution_count": 7,
   "id": "8a74dd69-e257-4b1f-80d6-010ed5fe8c2e",
   "metadata": {},
   "outputs": [
    {
     "name": "stdin",
     "output_type": "stream",
     "text": [
      "Enter electricity consumption in kilowatt-hours:  1000\n"
     ]
    },
    {
     "name": "stdout",
     "output_type": "stream",
     "text": [
      "1000.0\n",
      "1.5\n",
      "1500.0\n"
     ]
    }
   ],
   "source": [
    "consumption = float(input(\"Enter electricity consumption in kilowatt-hours: \"))\n",
    "if consumption <= 100:\n",
    "    rate = 0.5\n",
    "elif 100 < consumption <= 300:\n",
    "    rate = 0.75\n",
    "elif 300 < consumption <= 500:\n",
    "    rate = 1.20\n",
    "else:\n",
    "    rate = 1.50\n",
    "bill = consumption * rate\n",
    "print(consumption)\n",
    "print(rate)\n",
    "print(bill)"
   ]
  },
  {
   "cell_type": "markdown",
   "id": "49ebb2aa-d6fd-4457-a946-279449318fe6",
   "metadata": {},
   "source": [
    "28. Create a program to determine the type of quadrilateral based on its angles and sides using elif\n",
    "statements."
   ]
  },
  {
   "cell_type": "code",
   "execution_count": 10,
   "id": "c884b329-0e98-4bde-b0ca-277d56b7e3a7",
   "metadata": {},
   "outputs": [
    {
     "name": "stdin",
     "output_type": "stream",
     "text": [
      "Enter the first angle in degrees:  90\n",
      "Enter the second angle in degrees:  90\n",
      "Enter the third angle in degrees:  90\n",
      "Enter the fourth angle in degrees:  90\n",
      "Enter the length of the first side:  2\n",
      "Enter the length of the second side:  2\n",
      "Enter the length of the third side:  2\n",
      "Enter the length of the fourth side:  3\n"
     ]
    },
    {
     "name": "stdout",
     "output_type": "stream",
     "text": [
      "It is a general quadrilateral.\n"
     ]
    }
   ],
   "source": [
    "angle1 = float(input(\"Enter the first angle in degrees: \"))\n",
    "angle2 = float(input(\"Enter the second angle in degrees: \"))\n",
    "angle3 = float(input(\"Enter the third angle in degrees: \"))\n",
    "angle4 = float(input(\"Enter the fourth angle in degrees: \"))\n",
    "side1 = float(input(\"Enter the length of the first side: \"))\n",
    "side2 = float(input(\"Enter the length of the second side: \"))\n",
    "side3 = float(input(\"Enter the length of the third side: \"))\n",
    "side4 = float(input(\"Enter the length of the fourth side: \"))\n",
    "if angle1 + angle2 + angle3 + angle4 == 360:\n",
    "    if side1 == side2 == side3 == side4:\n",
    "        print(\"It is a square.\")\n",
    "    elif side1 == side3 and side2 == side4:\n",
    "        print(\"It is a rectangle.\")\n",
    "    else:\n",
    "        print(\"It is a general quadrilateral.\")\n",
    "else:\n",
    "    print(\"Invalid input. Angles do not add up to 360 degrees.\")"
   ]
  },
  {
   "cell_type": "markdown",
   "id": "80333a1f-8d87-4274-9516-2d08d5b5a40f",
   "metadata": {},
   "source": [
    "29. Write a Python script to determine the season based on a user-provided month using elif statements."
   ]
  },
  {
   "cell_type": "code",
   "execution_count": 12,
   "id": "7abe1ac4-8c8e-4bc7-81e9-032afc4fb77c",
   "metadata": {},
   "outputs": [
    {
     "name": "stdin",
     "output_type": "stream",
     "text": [
      "Enter the month :  may\n"
     ]
    },
    {
     "name": "stdout",
     "output_type": "stream",
     "text": [
      "Spring\n"
     ]
    }
   ],
   "source": [
    "month = input(\"Enter the month : \")\n",
    "month = month.lower()\n",
    "if month in ['december', 'january', 'february']:\n",
    "    season = 'Winter'\n",
    "elif month in ['march', 'april', 'may']:\n",
    "    season = 'Spring'\n",
    "elif month in ['june', 'july', 'august']:\n",
    "    season = 'Summer'\n",
    "elif month in ['september', 'october', 'november']:\n",
    "    season = 'Fall'\n",
    "else:\n",
    "    season = 'Invalid month'\n",
    "print(season)    "
   ]
  },
  {
   "cell_type": "markdown",
   "id": "48832f55-cfe0-446c-a14e-61c3157a5624",
   "metadata": {},
   "source": [
    "30. Implement a program to determine the type of a year (leap or common) and month (30 or 31 days) using\n",
    "elif statements."
   ]
  },
  {
   "cell_type": "code",
   "execution_count": 14,
   "id": "8947a24b-3c88-4ba7-a488-3ebdf06aa828",
   "metadata": {},
   "outputs": [
    {
     "name": "stdin",
     "output_type": "stream",
     "text": [
      "Enter the year:  2023\n",
      "Enter the month (e.g., January, February, etc.):  september\n"
     ]
    },
    {
     "name": "stdout",
     "output_type": "stream",
     "text": [
      "Common\n",
      "30\n"
     ]
    }
   ],
   "source": [
    "year = int(input(\"Enter the year: \"))\n",
    "month = input(\"Enter the month (e.g., January, February, etc.): \")\n",
    "month = month.lower()\n",
    "if (year % 4 == 0 and year % 100 != 0) or (year % 400 == 0):\n",
    "    year_type = 'Leap'\n",
    "else:\n",
    "    year_type = 'Common'\n",
    "if month in ['january', 'march', 'may', 'july', 'august', 'october', 'december']:\n",
    "    days_in_month = 31\n",
    "elif month in ['april', 'june', 'september', 'november']:\n",
    "    days_in_month = 30\n",
    "elif month == 'february':\n",
    "    days_in_month = 29 if year_type == 'Leap' else 28\n",
    "else:\n",
    "    days_in_month = 'Invalid month'\n",
    "print(year_type)\n",
    "print(days_in_month)"
   ]
  },
  {
   "cell_type": "markdown",
   "id": "13472295-0441-4a8f-a129-0dfdcfc4b150",
   "metadata": {},
   "source": [
    "Basic Level:\n",
    "    \n",
    "    \n",
    "1. Write a Python program that checks if a given number is positive, negative, or zero."
   ]
  },
  {
   "cell_type": "code",
   "execution_count": 16,
   "id": "d3c939e2-6b88-49f2-b547-83ae6bf1934b",
   "metadata": {},
   "outputs": [
    {
     "name": "stdin",
     "output_type": "stream",
     "text": [
      "enter any number: -3\n"
     ]
    },
    {
     "name": "stdout",
     "output_type": "stream",
     "text": [
      "negative\n"
     ]
    }
   ],
   "source": [
    "number=int(input(\"enter any number:\"))\n",
    "if number>0:\n",
    "    print(\"positive\")\n",
    "elif number==0:\n",
    "    print(\"zero\")\n",
    "else:\n",
    "    print(\"negative\")"
   ]
  },
  {
   "cell_type": "markdown",
   "id": "7e1a875d-7b46-46cd-9d11-28907b319ac5",
   "metadata": {},
   "source": [
    "2. Create a program to determine if a person is eligible to vote based on their age."
   ]
  },
  {
   "cell_type": "code",
   "execution_count": 17,
   "id": "4fb533ac-4a15-4adb-b596-d9e591e0c6cd",
   "metadata": {},
   "outputs": [
    {
     "name": "stdin",
     "output_type": "stream",
     "text": [
      "enter your age: 19\n"
     ]
    },
    {
     "name": "stdout",
     "output_type": "stream",
     "text": [
      "person is eligible to vote\n"
     ]
    }
   ],
   "source": [
    "age=int(input(\"enter your age:\"))\n",
    "if age>=18:\n",
    "    print(\"person is eligible to vote\")\n",
    "else:\n",
    "    print(\"person is not eligible to vote\")"
   ]
  },
  {
   "cell_type": "markdown",
   "id": "b9bcd9fe-da45-4474-a86d-b2f614060460",
   "metadata": {},
   "source": [
    "3. Write a program to find the maximum of two given numbers using conditional statements."
   ]
  },
  {
   "cell_type": "code",
   "execution_count": 18,
   "id": "b0635c5f-8644-4104-b36c-c86c3d48a9dc",
   "metadata": {},
   "outputs": [
    {
     "name": "stdin",
     "output_type": "stream",
     "text": [
      "enter a number: 10\n",
      "enter a number: 20\n"
     ]
    },
    {
     "name": "stdout",
     "output_type": "stream",
     "text": [
      "20 is maximum number\n"
     ]
    }
   ],
   "source": [
    "a=int(input(\"enter a number:\"))\n",
    "b=int(input(\"enter a number:\"))\n",
    "if a>b:\n",
    "    print(a,\"is maximum number\")\n",
    "else:\n",
    "    print(b,\"is maximum number\")"
   ]
  },
  {
   "cell_type": "markdown",
   "id": "f9ad3a85-bbec-4566-bc64-143f2f590784",
   "metadata": {},
   "source": [
    "4. Develop a program that calculates the grade of a student based on their exam score."
   ]
  },
  {
   "cell_type": "code",
   "execution_count": 21,
   "id": "6f8b59bd-da51-470e-b9f9-4d529ba8aa82",
   "metadata": {},
   "outputs": [
    {
     "name": "stdin",
     "output_type": "stream",
     "text": [
      "Enter your score: 20\n"
     ]
    },
    {
     "name": "stdout",
     "output_type": "stream",
     "text": [
      "grade is fail\n"
     ]
    }
   ],
   "source": [
    "score=int(input(\"Enter your score:\"))\n",
    "if score>=30 and score<=100:\n",
    "    print(\"grade is pass\")\n",
    "else:\n",
    "    print(\"grade is fail\")"
   ]
  },
  {
   "cell_type": "markdown",
   "id": "33fba3e2-2ef4-4c3c-8464-190888cd8e6a",
   "metadata": {},
   "source": [
    "5. Create a program that checks if a year is a leap year or not."
   ]
  },
  {
   "cell_type": "code",
   "execution_count": 20,
   "id": "913ec153-4f52-41aa-a81c-060b340420fc",
   "metadata": {},
   "outputs": [
    {
     "name": "stdin",
     "output_type": "stream",
     "text": [
      "enter year: 2024\n"
     ]
    },
    {
     "name": "stdout",
     "output_type": "stream",
     "text": [
      "2024 is a leap year\n"
     ]
    }
   ],
   "source": [
    "year=int(input(\"enter year:\"))\n",
    "if (year%4==0 and year%100!=0) or (year%400==0):\n",
    "    print(year,\"is a leap year\")\n",
    "else:\n",
    "    print(\"not a leap year\")"
   ]
  },
  {
   "cell_type": "markdown",
   "id": "f1c76a08-ec37-4ba2-97ce-6bd387fc7760",
   "metadata": {},
   "source": [
    "6. Write a program to classify a triangle based on its sides' lengths."
   ]
  },
  {
   "cell_type": "code",
   "execution_count": 22,
   "id": "8d29b94a-d0e6-496a-b4c1-bc7558d0735a",
   "metadata": {},
   "outputs": [
    {
     "name": "stdin",
     "output_type": "stream",
     "text": [
      "enter side1 4\n",
      "enter side2 2\n",
      "enter side3 3\n"
     ]
    },
    {
     "name": "stdout",
     "output_type": "stream",
     "text": [
      "scalene\n"
     ]
    }
   ],
   "source": [
    "s1=int(input(\"enter side1\"))\n",
    "s2=int(input(\"enter side2\"))\n",
    "s3=int(input(\"enter side3\"))\n",
    "if s1==s2:\n",
    "    if s2==s3:\n",
    "        print(\"equilateral\")\n",
    "    else:\n",
    "        print(\"isoceles\")\n",
    "elif s1==s3 or s2==s3:\n",
    "    print(\"isoceles\")\n",
    "else:\n",
    "    print(\"scalene\")"
   ]
  },
  {
   "cell_type": "markdown",
   "id": "24714b1c-ee72-42fb-ac23-511c1fd2c6f5",
   "metadata": {},
   "source": [
    "7. Build a program that determines the largest of three given numbers."
   ]
  },
  {
   "cell_type": "code",
   "execution_count": 2,
   "id": "2999c063-7e08-440e-b6b0-a84124bcda9f",
   "metadata": {},
   "outputs": [
    {
     "name": "stdin",
     "output_type": "stream",
     "text": [
      "enter any number: 5\n",
      "enter any number: 4\n",
      "enter any number: 7\n"
     ]
    },
    {
     "name": "stdout",
     "output_type": "stream",
     "text": [
      "7 is the largest of three given numbers\n"
     ]
    }
   ],
   "source": [
    "a=int(input(\"enter any number:\"))\n",
    "b=int(input(\"enter any number:\"))\n",
    "c=int(input(\"enter any number:\"))\n",
    "if (a>b and a>c):\n",
    "    print(a,\"is the largest of three given numbers\")\n",
    "elif (b>a and b>c):\n",
    "    print(b,\"is the largest of three given numbers\")\n",
    "else:\n",
    "    print(c,\"is the largest of three given numbers\")"
   ]
  },
  {
   "cell_type": "markdown",
   "id": "62f8e584-809c-4348-939b-21612afbd2ea",
   "metadata": {},
   "source": [
    "8. Develop a program that checks whether a character is a vowel or a consonant."
   ]
  },
  {
   "cell_type": "code",
   "execution_count": 5,
   "id": "24480dc8-a070-4159-ab6b-2aa0b732c7e5",
   "metadata": {},
   "outputs": [
    {
     "name": "stdin",
     "output_type": "stream",
     "text": [
      "enter any character s\n"
     ]
    },
    {
     "name": "stdout",
     "output_type": "stream",
     "text": [
      "character is a consonant\n"
     ]
    }
   ],
   "source": [
    "character=input(\"enter any character\")\n",
    "character.lower()\n",
    "if character in \"aeiou\":\n",
    "    print(\"character is a vowel\")\n",
    "else:\n",
    "    print(\"character is a consonant\")"
   ]
  },
  {
   "cell_type": "markdown",
   "id": "4ad5c104-272a-4e32-8f4e-510cfe0eea93",
   "metadata": {},
   "source": [
    "9. Create a program to calculate the total cost of a shopping cart based on discounts."
   ]
  },
  {
   "cell_type": "code",
   "execution_count": 9,
   "id": "1e58983a-1954-48a6-9523-c48c3592c73a",
   "metadata": {},
   "outputs": [
    {
     "name": "stdout",
     "output_type": "stream",
     "text": [
      "Total cost of the shopping cart: $99.00\n"
     ]
    }
   ],
   "source": [
    "cart = {\n",
    "    \"item1\": 25,\n",
    "    \"item2\": 35,\n",
    "    \"item3\": 20,\n",
    "    \"item4\": 30\n",
    "}\n",
    "total_cost = sum(cart.values())\n",
    "if total_cost >= 100:\n",
    "    total_cost *= 0.9  # Applying a 10% discount for total cost >= $100\n",
    "elif total_cost >= 50:\n",
    "    total_cost *= 0.95  # Applying a 5% discount for total cost >= $50\n",
    "print(f\"Total cost of the shopping cart: ${total_cost:.2f}\")"
   ]
  },
  {
   "cell_type": "markdown",
   "id": "3e7d1302-65bd-4929-b94e-e2d3db818936",
   "metadata": {},
   "source": [
    "10. Write a program that checks if a given number is even or odd."
   ]
  },
  {
   "cell_type": "code",
   "execution_count": null,
   "id": "3cd488a7-4a1e-4b7d-b548-250d5806c857",
   "metadata": {},
   "outputs": [],
   "source": [
    "number=int(input(\"enter any number\"))\n",
    "if number%2==0:\n",
    "    print(\"number is even\")\n",
    "else:\n",
    "    print(\"number is odd\") "
   ]
  },
  {
   "cell_type": "markdown",
   "id": "7c65a130-a174-40dc-b8b3-735bfaf7198c",
   "metadata": {},
   "source": [
    "Intermediate Level:\n",
    "    \n",
    "11. Write a program that calculates the roots of a quadratic equation .\n"
   ]
  },
  {
   "cell_type": "code",
   "execution_count": 8,
   "id": "a4e2dfde-fdf4-4dea-a05e-c9432e968b80",
   "metadata": {},
   "outputs": [
    {
     "name": "stdin",
     "output_type": "stream",
     "text": [
      "Enter the coefficient of x^2 (a):  2\n",
      "Enter the coefficient of x (b):  4\n",
      "Enter the constant term (c):  2\n"
     ]
    },
    {
     "name": "stdout",
     "output_type": "stream",
     "text": [
      "(-1+0j) (-1+0j)\n"
     ]
    }
   ],
   "source": [
    "import cmath \n",
    "a = float(input(\"Enter the coefficient of x^2 (a): \"))\n",
    "b = float(input(\"Enter the coefficient of x (b): \"))\n",
    "c = float(input(\"Enter the constant term (c): \"))\n",
    "discriminant = (b**2) - (4 * a * c)\n",
    "root1 = (-b + cmath.sqrt(discriminant)) / (2 * a)\n",
    "root2 = (-b - cmath.sqrt(discriminant)) / (2 * a)\n",
    "print(root1,root2)"
   ]
  },
  {
   "cell_type": "markdown",
   "id": "792a1cd3-b0d1-460c-bcff-1e21874c4d89",
   "metadata": {},
   "source": [
    "12. Create a program that determines the day of the week based on the day number (1-7)."
   ]
  },
  {
   "cell_type": "code",
   "execution_count": 11,
   "id": "ac17ae10-f621-47b4-8b14-4a114ba2f8b0",
   "metadata": {},
   "outputs": [
    {
     "name": "stdin",
     "output_type": "stream",
     "text": [
      "Enter a number from 1 to 7:  4\n"
     ]
    },
    {
     "name": "stdout",
     "output_type": "stream",
     "text": [
      "The day of the week is: Thursday\n"
     ]
    }
   ],
   "source": [
    "days = {\n",
    "    1: \"Monday\",\n",
    "    2: \"Tuesday\",\n",
    "    3: \"Wednesday\",\n",
    "    4: \"Thursday\",\n",
    "    5: \"Friday\",\n",
    "    6: \"Saturday\",\n",
    "    7: \"Sunday\"\n",
    "}\n",
    "\n",
    "number = int(input(\"Enter a number from 1 to 7: \"))\n",
    "if number in days:\n",
    "    day_of_week = days[number]\n",
    "    print(\"The day of the week is:\",day_of_week)\n",
    "else:\n",
    "    print(\"invalid input\")"
   ]
  },
  {
   "cell_type": "markdown",
   "id": "265a8569-9db2-4335-bb3a-46c97bba94d5",
   "metadata": {},
   "source": [
    "13. Develop a program that calculates the factorial of a given number using recursion."
   ]
  },
  {
   "cell_type": "code",
   "execution_count": 12,
   "id": "525e450e-937f-4123-b012-b22262908f8c",
   "metadata": {},
   "outputs": [
    {
     "name": "stdin",
     "output_type": "stream",
     "text": [
      "enter any number 5\n"
     ]
    },
    {
     "name": "stdout",
     "output_type": "stream",
     "text": [
      "120\n"
     ]
    }
   ],
   "source": [
    "def factorial(n):\n",
    "    if n==0 or n==1:\n",
    "        return 1\n",
    "    else:\n",
    "        return n*factorial(n-1)\n",
    "number=int(input(\"enter any number\"))\n",
    "if number<0:\n",
    "    print(\"factorial is not defined for factorial numbers\")\n",
    "else:\n",
    "    result=factorial(number)\n",
    "    print(result)"
   ]
  },
  {
   "cell_type": "markdown",
   "id": "f3276b3f-e7bd-4dde-a73b-c3bb4055da48",
   "metadata": {},
   "source": [
    "14. Write a program to find the largest among three numbers without using the `max()` function."
   ]
  },
  {
   "cell_type": "code",
   "execution_count": 1,
   "id": "ddc5ecd9-fa1c-407e-ba87-807d714b87fc",
   "metadata": {},
   "outputs": [
    {
     "name": "stdin",
     "output_type": "stream",
     "text": [
      "enter any number: 5\n",
      "enter any number: 4\n",
      "enter any number: 2\n"
     ]
    },
    {
     "name": "stdout",
     "output_type": "stream",
     "text": [
      "5 is the largest of three given numbers\n"
     ]
    }
   ],
   "source": [
    "a=int(input(\"enter any number:\"))\n",
    "b=int(input(\"enter any number:\"))\n",
    "c=int(input(\"enter any number:\"))\n",
    "if (a>b and a>c):\n",
    "    print(a,\"is the largest of three given numbers\")\n",
    "elif (b>a and b>c):\n",
    "    print(b,\"is the largest of three given numbers\")\n",
    "else:\n",
    "    print(c,\"is the largest of three given numbers\")"
   ]
  },
  {
   "cell_type": "markdown",
   "id": "d5afbbe4-1c67-458f-9719-af60b4651cff",
   "metadata": {},
   "source": [
    "15. Create a program that simulates a basic ATM transaction menu."
   ]
  },
  {
   "cell_type": "code",
   "execution_count": 2,
   "id": "712f9d68-d039-4494-821c-e93191f79809",
   "metadata": {},
   "outputs": [
    {
     "name": "stdout",
     "output_type": "stream",
     "text": [
      "\n",
      "ATM Menu:\n",
      "1. Check Balance\n",
      "2. Deposit\n",
      "3. Withdraw\n",
      "4. Exit\n"
     ]
    },
    {
     "name": "stdin",
     "output_type": "stream",
     "text": [
      "Enter your choice (1-4):  3\n",
      "Enter withdrawal amount: $ 200\n"
     ]
    },
    {
     "name": "stdout",
     "output_type": "stream",
     "text": [
      "Withdrawal of $200.0 successful.\n"
     ]
    }
   ],
   "source": [
    "balance = 1000.0  # Initial balance\n",
    "\n",
    "print(\"\\nATM Menu:\")\n",
    "print(\"1. Check Balance\")\n",
    "print(\"2. Deposit\")\n",
    "print(\"3. Withdraw\")\n",
    "print(\"4. Exit\")\n",
    "\n",
    "choice = input(\"Enter your choice (1-4): \")\n",
    "\n",
    "if choice == '1':\n",
    "    print(f\"Your balance is: ${balance}\")\n",
    "elif choice == '2':\n",
    "    amount = float(input(\"Enter deposit amount: $\"))\n",
    "    balance += amount\n",
    "    print(f\"Deposit of ${amount} successful.\")\n",
    "elif choice == '3':\n",
    "    amount = float(input(\"Enter withdrawal amount: $\"))\n",
    "    if amount > balance:\n",
    "        print(\"Insufficient funds.\")\n",
    "    else:\n",
    "        balance -= amount\n",
    "        print(f\"Withdrawal of ${amount} successful.\")\n",
    "elif choice == '4':\n",
    "    print(\"Thank you for using the ATM. Goodbye!\")\n",
    "else:\n",
    "    print(\"Invalid choice. Please enter a number from 1 to 4.\")"
   ]
  },
  {
   "cell_type": "markdown",
   "id": "872f1e18-0977-4c37-8dce-3ca69727745c",
   "metadata": {},
   "source": [
    "16. Build a program that checks if a given string is a palindrome or not."
   ]
  },
  {
   "cell_type": "code",
   "execution_count": 11,
   "id": "7125f95a-6acd-4953-8f2e-aa666bb38918",
   "metadata": {},
   "outputs": [
    {
     "name": "stdout",
     "output_type": "stream",
     "text": [
      "string is a palindrome\n"
     ]
    }
   ],
   "source": [
    "string=\"level\"\n",
    "if string==string[::-1]:\n",
    "    print(\"string is a palindrome\")\n",
    "else:\n",
    "    print(\"string is not a palindrome\")"
   ]
  },
  {
   "cell_type": "markdown",
   "id": "4ad74f6f-3da7-431d-9a7a-6832dfd4cb71",
   "metadata": {},
   "source": [
    "17. Write a program that calculates the average of a list of numbers, excluding the smallest and largest values."
   ]
  },
  {
   "cell_type": "code",
   "execution_count": 13,
   "id": "6d304140-c6c4-44a7-abbf-e8bd14ba7608",
   "metadata": {},
   "outputs": [
    {
     "name": "stdout",
     "output_type": "stream",
     "text": [
      "3.5\n"
     ]
    }
   ],
   "source": [
    "pylist=[1,3,4,5,6,2]\n",
    "pylist.sort()\n",
    "pylist=pylist[1:-1]\n",
    "total=sum(pylist)\n",
    "count=len(pylist)\n",
    "if count>0:\n",
    "    average=total/count\n",
    "    print(average)\n",
    "else:\n",
    "    print(\"not enough numbers\")"
   ]
  },
  {
   "cell_type": "markdown",
   "id": "00873b68-2834-4e35-8ee0-7b8e1e72e4c6",
   "metadata": {},
   "source": [
    "18. Develop a program that converts a given temperature from Celsius to Fahrenheit."
   ]
  },
  {
   "cell_type": "code",
   "execution_count": 17,
   "id": "60a18b1f-3e3a-415d-8486-5995e17bd9bd",
   "metadata": {},
   "outputs": [
    {
     "name": "stdin",
     "output_type": "stream",
     "text": [
      "enter celsius temperature 20\n"
     ]
    },
    {
     "name": "stdout",
     "output_type": "stream",
     "text": [
      "68.0\n"
     ]
    }
   ],
   "source": [
    "celsius_temp=float(input(\"enter celsius temperature\"))\n",
    "fahrenheit_temp=(celsius_temp*9/5)+32\n",
    "print(fahrenheit_temp)"
   ]
  },
  {
   "cell_type": "markdown",
   "id": "18aaa3d6-2592-4f6e-8774-c6c92b3b0d9c",
   "metadata": {},
   "source": [
    "19. Create a program that simulates a basic calculator for addition, subtraction, multiplication, and division."
   ]
  },
  {
   "cell_type": "code",
   "execution_count": 18,
   "id": "b19ae8e7-b6bf-4fcb-8aa6-80a051e99fd8",
   "metadata": {},
   "outputs": [
    {
     "name": "stdout",
     "output_type": "stream",
     "text": [
      "Calculator Menu:\n",
      "1. Addition\n",
      "2. Subtraction\n",
      "3. Multiplication\n",
      "4. Division\n"
     ]
    },
    {
     "name": "stdin",
     "output_type": "stream",
     "text": [
      "Enter your choice (1-4):  3\n",
      "Enter first number:  1\n",
      "Enter second number:  3\n"
     ]
    },
    {
     "name": "stdout",
     "output_type": "stream",
     "text": [
      "The result of multiplication is: 3.0\n"
     ]
    }
   ],
   "source": [
    "print(\"Calculator Menu:\")\n",
    "print(\"1. Addition\")\n",
    "print(\"2. Subtraction\")\n",
    "print(\"3. Multiplication\")\n",
    "print(\"4. Division\")\n",
    "\n",
    "choice = input(\"Enter your choice (1-4): \")\n",
    "\n",
    "if choice == '1':\n",
    "    num1 = float(input(\"Enter first number: \"))\n",
    "    num2 = float(input(\"Enter second number: \"))\n",
    "    result = num1 + num2\n",
    "    print(f\"The result of addition is: {result}\")\n",
    "elif choice == '2':\n",
    "    num1 = float(input(\"Enter first number: \"))\n",
    "    num2 = float(input(\"Enter second number: \"))\n",
    "    result = num1 - num2\n",
    "    print(f\"The result of subtraction is: {result}\")\n",
    "elif choice == '3':\n",
    "    num1 = float(input(\"Enter first number: \"))\n",
    "    num2 = float(input(\"Enter second number: \"))\n",
    "    result = num1 * num2\n",
    "    print(f\"The result of multiplication is: {result}\")\n",
    "elif choice == '4':\n",
    "    num1 = float(input(\"Enter dividend: \"))\n",
    "    num2 = float(input(\"Enter divisor: \"))\n",
    "    if num2 == 0:\n",
    "        print(\"Cannot divide by zero.\")\n",
    "    else:\n",
    "        result = num1 / num2\n",
    "        print(f\"The result of division is: {result}\")\n",
    "else:\n",
    "    print(\"Invalid choice. Please enter a number from 1 to 4.\")\n"
   ]
  },
  {
   "cell_type": "markdown",
   "id": "118976b9-1c30-4912-96d1-92abf09a0b06",
   "metadata": {},
   "source": [
    "20. Write a program that determines the roots of a cubic equation using the Cardano formula."
   ]
  },
  {
   "cell_type": "code",
   "execution_count": 19,
   "id": "54ea4527-0ec4-47b1-afdc-01d4ed164bdd",
   "metadata": {},
   "outputs": [
    {
     "name": "stdout",
     "output_type": "stream",
     "text": [
      "The roots of the cubic equation are: (3+0j), (0.9999999999999998-0j), (1.9999999999999998+0j)\n"
     ]
    }
   ],
   "source": [
    "import cmath\n",
    "\n",
    "# Coefficients of the cubic equation: ax^3 + bx^2 + cx + d = 0\n",
    "a, b, c, d = 1, -6, 11, -6\n",
    "\n",
    "p = (3 * a * c - b ** 2) / (3 * a ** 2)\n",
    "q = (2 * b ** 3 - 9 * a * b * c + 27 * a ** 2 * d) / (27 * a ** 3)\n",
    "delta = q ** 2 / 4 + p ** 3 / 27\n",
    "\n",
    "if delta > 0:\n",
    "    u = (-q / 2 + cmath.sqrt(delta)) ** (1/3)\n",
    "    v = (-q / 2 - cmath.sqrt(delta)) ** (1/3)\n",
    "    root1 = u + v - b / (3 * a)\n",
    "    print(f\"The root of the cubic equation is: {root1}\")\n",
    "elif delta == 0:\n",
    "    u = (-q / 2) ** (1/3)\n",
    "    root1 = 2 * u - b / (3 * a)\n",
    "    root2 = -u - b / (3 * a)\n",
    "    print(f\"The roots of the cubic equation are: {root1}, {root2}\")\n",
    "else:\n",
    "    r = cmath.sqrt(-(p ** 3) / 27)\n",
    "    theta = cmath.acos(-q / (2 * r))\n",
    "    root1 = 2 * r ** (1/3) * cmath.cos(theta / 3) - b / (3 * a)\n",
    "    root2 = 2 * r ** (1/3) * cmath.cos((theta + 2 * cmath.pi) / 3) - b / (3 * a)\n",
    "    root3 = 2 * r ** (1/3) * cmath.cos((theta + 4 * cmath.pi) / 3) - b / (3 * a)\n",
    "    print(f\"The roots of the cubic equation are: {root1}, {root2}, {root3}\")\n"
   ]
  },
  {
   "cell_type": "markdown",
   "id": "671a49c2-c7f8-49e3-ad7a-a03e71ea6ad4",
   "metadata": {},
   "source": [
    "Advanced Level:\n",
    "    \n",
    "    \n",
    "21. Create a program that calculates the income tax based on the user's income and tax brackets."
   ]
  },
  {
   "cell_type": "code",
   "execution_count": 1,
   "id": "854d1246-7f3e-48f6-b80d-6c83ddcb4682",
   "metadata": {},
   "outputs": [
    {
     "name": "stdin",
     "output_type": "stream",
     "text": [
      "Enter your income: $ 1000\n"
     ]
    },
    {
     "name": "stdout",
     "output_type": "stream",
     "text": [
      "Income tax owed: $100.00\n"
     ]
    }
   ],
   "source": [
    "tax_brackets = [\n",
    "    (10000, 0.1),\n",
    "    (20000, 0.2),\n",
    "    (50000, 0.3)\n",
    "]\n",
    "\n",
    "income = float(input(\"Enter your income: $\"))\n",
    "tax_owed = 0\n",
    "remaining_income = income\n",
    "\n",
    "for bracket_limit, tax_rate in tax_brackets:\n",
    "    if remaining_income <= 0:\n",
    "        break\n",
    "\n",
    "    if remaining_income > bracket_limit:\n",
    "        tax_owed += bracket_limit * tax_rate\n",
    "        remaining_income -= bracket_limit\n",
    "    else:\n",
    "        tax_owed += remaining_income * tax_rate\n",
    "        remaining_income = 0\n",
    "\n",
    "print(f\"Income tax owed: ${tax_owed:.2f}\")"
   ]
  },
  {
   "cell_type": "markdown",
   "id": "f8cc4895-19a0-4ba7-a0d2-8c2a3deb836c",
   "metadata": {},
   "source": [
    "22. Write a program that simulates a rock-paper-scissors game against the computer."
   ]
  },
  {
   "cell_type": "code",
   "execution_count": 2,
   "id": "d2308ac1-1ea3-409c-b4c4-d9f970fe6f5a",
   "metadata": {},
   "outputs": [
    {
     "name": "stdout",
     "output_type": "stream",
     "text": [
      "Welcome to Rock-Paper-Scissors!\n"
     ]
    },
    {
     "name": "stdin",
     "output_type": "stream",
     "text": [
      "Enter your choice: (rock, paper, scissors)  paper\n"
     ]
    },
    {
     "name": "stdout",
     "output_type": "stream",
     "text": [
      "Computer chooses: scissors\n",
      "Computer wins!\n"
     ]
    }
   ],
   "source": [
    "import random\n",
    "\n",
    "choices = ['rock', 'paper', 'scissors']\n",
    "\n",
    "print(\"Welcome to Rock-Paper-Scissors!\")\n",
    "\n",
    "user_choice = input(\"Enter your choice: (rock, paper, scissors) \").lower()\n",
    "\n",
    "if user_choice in choices:\n",
    "    computer_choice = random.choice(choices)\n",
    "    print(f\"Computer chooses: {computer_choice}\")\n",
    "\n",
    "    if user_choice == computer_choice:\n",
    "        print(\"It's a tie!\")\n",
    "    elif (user_choice == 'rock' and computer_choice == 'scissors') or \\\n",
    "         (user_choice == 'paper' and computer_choice == 'rock') or \\\n",
    "         (user_choice == 'scissors' and computer_choice == 'paper'):\n",
    "        print(\"You win!\")\n",
    "    else:\n",
    "        print(\"Computer wins!\")\n",
    "else:\n",
    "    print(\"Invalid choice. Please enter rock, paper, or scissors.\")"
   ]
  },
  {
   "cell_type": "markdown",
   "id": "93667cf5-6a0b-4063-9514-dce105c21886",
   "metadata": {},
   "source": [
    "23. Develop a program that generates a random password based on user preferences (length, complexity)."
   ]
  },
  {
   "cell_type": "code",
   "execution_count": 4,
   "id": "ae464c66-8ccc-448d-bd47-03e8606c675f",
   "metadata": {},
   "outputs": [
    {
     "name": "stdout",
     "output_type": "stream",
     "text": [
      "Welcome to Password Generator!\n"
     ]
    },
    {
     "name": "stdin",
     "output_type": "stream",
     "text": [
      "Enter the length of the password:  5\n",
      "Enter complexity (options: digits, letters, special; separate with spaces):  letters\n"
     ]
    },
    {
     "name": "stdout",
     "output_type": "stream",
     "text": [
      "Generated password: rrLjA\n"
     ]
    }
   ],
   "source": [
    "import random\n",
    "import string\n",
    "\n",
    "print(\"Welcome to Password Generator!\")\n",
    "\n",
    "length = int(input(\"Enter the length of the password: \"))\n",
    "complexity = input(\"Enter complexity (options: digits, letters, special; separate with spaces): \").split()\n",
    "\n",
    "characters = ''\n",
    "if 'digits' in complexity:\n",
    "    characters += string.digits\n",
    "if 'letters' in complexity:\n",
    "    characters += string.ascii_letters\n",
    "if 'special' in complexity:\n",
    "    characters += string.punctuation\n",
    "\n",
    "if not characters:\n",
    "    print(\"Complexity not selected. Please choose at least one option: digits, letters, special.\")\n",
    "else:\n",
    "    password = ''.join(random.choice(characters) for _ in range(length))\n",
    "    print(f\"Generated password: {password}\")\n"
   ]
  },
  {
   "cell_type": "markdown",
   "id": "fa8e9c1b-5b5c-46bb-8029-a02702e83fbf",
   "metadata": {},
   "source": [
    "24. Create a program that implements a simple text-based adventure game with branching scenarios."
   ]
  },
  {
   "cell_type": "code",
   "execution_count": 5,
   "id": "16ccc43b-c058-40f8-8d84-fc877518c01e",
   "metadata": {},
   "outputs": [
    {
     "name": "stdout",
     "output_type": "stream",
     "text": [
      "Welcome to the Adventure Game!\n"
     ]
    },
    {
     "name": "stdin",
     "output_type": "stream",
     "text": [
      "Enter your name:  sai\n"
     ]
    },
    {
     "name": "stdout",
     "output_type": "stream",
     "text": [
      "Hello, sai! Let's start the adventure.\n",
      "\n",
      "You find yourself standing in front of two doors: one red and one blue.\n"
     ]
    },
    {
     "name": "stdin",
     "output_type": "stream",
     "text": [
      "Which door do you choose? (red/blue):  red\n"
     ]
    },
    {
     "name": "stdout",
     "output_type": "stream",
     "text": [
      "\n",
      "You open the red door and find a treasure chest!\n",
      "Congratulations, you win the game!\n"
     ]
    }
   ],
   "source": [
    "print(\"Welcome to the Adventure Game!\")\n",
    "\n",
    "name = input(\"Enter your name: \")\n",
    "print(f\"Hello, {name}! Let's start the adventure.\")\n",
    "\n",
    "print(\"\\nYou find yourself standing in front of two doors: one red and one blue.\")\n",
    "\n",
    "door_choice = input(\"Which door do you choose? (red/blue): \").lower()\n",
    "\n",
    "if door_choice == 'red':\n",
    "    print(\"\\nYou open the red door and find a treasure chest!\")\n",
    "    print(\"Congratulations, you win the game!\")\n",
    "elif door_choice == 'blue':\n",
    "    print(\"\\nYou open the blue door and fall into a pit!\")\n",
    "    print(\"Game Over! Better luck next time.\")\n",
    "else:\n",
    "    print(\"\\nInvalid choice. You hesitate and stand there, nothing happens.\")"
   ]
  },
  {
   "cell_type": "markdown",
   "id": "1a94eff1-2275-4344-8834-b70e9613ec53",
   "metadata": {},
   "source": [
    "25. Build a program that solves a linear equation for x, considering different cases."
   ]
  },
  {
   "cell_type": "code",
   "execution_count": 6,
   "id": "ec9abede-f177-482a-997e-74175cef84df",
   "metadata": {},
   "outputs": [
    {
     "name": "stdin",
     "output_type": "stream",
     "text": [
      "Enter the coefficient 'a' (should not be 0):  5\n",
      "Enter the coefficient 'b':  4\n"
     ]
    },
    {
     "name": "stdout",
     "output_type": "stream",
     "text": [
      "-0.8\n"
     ]
    }
   ],
   "source": [
    "a = float(input(\"Enter the coefficient 'a' (should not be 0): \"))\n",
    "b = float(input(\"Enter the coefficient 'b': \"))\n",
    "\n",
    "if a == 0:\n",
    "    if b == 0:\n",
    "        print(\"Infinite solutions: 0 = 0 (Identity equation)\")\n",
    "    else:\n",
    "        print(\"No solution: The equation is invalid (Contradictory equation)\")\n",
    "else:\n",
    "    x = -b / a\n",
    "print(x)    "
   ]
  },
  {
   "cell_type": "markdown",
   "id": "34522c06-3fc8-4651-80ce-679f162bb9f0",
   "metadata": {},
   "source": [
    "26. Write a program that simulates a basic quiz game with multiple-choice questions and scoring."
   ]
  },
  {
   "cell_type": "code",
   "execution_count": 1,
   "id": "23ceff83-9e44-4e63-ba8e-a8529c2195a3",
   "metadata": {},
   "outputs": [
    {
     "name": "stdout",
     "output_type": "stream",
     "text": [
      "Welcome to the Quiz Game!\n",
      "Please answer the following questions:\n",
      "\n",
      "Question 1: What is the capital of France?\n",
      "1. Paris\n",
      "2. Rome\n",
      "3. Berlin\n",
      "4. London\n"
     ]
    },
    {
     "name": "stdin",
     "output_type": "stream",
     "text": [
      "Your answer:  paris\n"
     ]
    },
    {
     "name": "stdout",
     "output_type": "stream",
     "text": [
      "Correct!\n",
      "\n",
      "Question 2: Which planet is known as the Red Planet?\n",
      "1. Jupiter\n",
      "2. Mars\n",
      "3. Venus\n",
      "4. Saturn\n"
     ]
    },
    {
     "name": "stdin",
     "output_type": "stream",
     "text": [
      "Your answer:  mars\n"
     ]
    },
    {
     "name": "stdout",
     "output_type": "stream",
     "text": [
      "Correct!\n",
      "\n",
      "Question 3: What is the largest mammal in the world?\n",
      "1. Elephant\n",
      "2. Blue Whale\n",
      "3. Giraffe\n",
      "4. Hippopotamus\n"
     ]
    },
    {
     "name": "stdin",
     "output_type": "stream",
     "text": [
      "Your answer:  elephant\n"
     ]
    },
    {
     "name": "stdout",
     "output_type": "stream",
     "text": [
      "Wrong! The correct answer is: Blue Whale\n",
      "\n",
      "Quiz completed!\n",
      "Your final score is: 2/3\n"
     ]
    }
   ],
   "source": [
    "questions = [\n",
    "    {\n",
    "        \"question\": \"What is the capital of France?\",\n",
    "        \"options\": [\"Paris\", \"Rome\", \"Berlin\", \"London\"],\n",
    "        \"answer\": \"Paris\"\n",
    "    },\n",
    "    {\n",
    "        \"question\": \"Which planet is known as the Red Planet?\",\n",
    "        \"options\": [\"Jupiter\", \"Mars\", \"Venus\", \"Saturn\"],\n",
    "        \"answer\": \"Mars\"\n",
    "    },\n",
    "    {\n",
    "        \"question\": \"What is the largest mammal in the world?\",\n",
    "        \"options\": [\"Elephant\", \"Blue Whale\", \"Giraffe\", \"Hippopotamus\"],\n",
    "        \"answer\": \"Blue Whale\"\n",
    "    }\n",
    "]\n",
    "\n",
    "score = 0\n",
    "\n",
    "print(\"Welcome to the Quiz Game!\")\n",
    "print(\"Please answer the following questions:\")\n",
    "\n",
    "for idx, question in enumerate(questions, 1):\n",
    "    print(f\"\\nQuestion {idx}: {question['question']}\")\n",
    "    for index, option in enumerate(question['options'], 1):\n",
    "        print(f\"{index}. {option}\")\n",
    "    user_answer = input(\"Your answer: \")\n",
    "\n",
    "    if user_answer.capitalize() == question['answer']:\n",
    "        print(\"Correct!\")\n",
    "        score += 1\n",
    "    else:\n",
    "        print(f\"Wrong! The correct answer is: {question['answer']}\")\n",
    "\n",
    "print(f\"\\nQuiz completed!\\nYour final score is: {score}/{len(questions)}\")\n"
   ]
  },
  {
   "cell_type": "markdown",
   "id": "9cdc62a5-d0e8-4a87-8b3c-c4721ce240f6",
   "metadata": {},
   "source": [
    "27. Develop a program that determines whether a given year is a prime number or not."
   ]
  },
  {
   "cell_type": "code",
   "execution_count": 2,
   "id": "4af1c8a3-0d02-4858-8bf7-bb80d58d6510",
   "metadata": {},
   "outputs": [
    {
     "name": "stdin",
     "output_type": "stream",
     "text": [
      "Enter a year to check if it's prime:  7\n"
     ]
    },
    {
     "name": "stdout",
     "output_type": "stream",
     "text": [
      "7 is a prime number.\n"
     ]
    }
   ],
   "source": [
    "year = int(input(\"Enter a year to check if it's prime: \"))\n",
    "\n",
    "if year > 1:\n",
    "    for i in range(2, int(year ** 0.5) + 1):\n",
    "        if year % i == 0:\n",
    "            print(f\"{year} is not a prime number.\")\n",
    "            break\n",
    "    else:\n",
    "        print(f\"{year} is a prime number.\")\n",
    "else:\n",
    "    print(f\"{year} is not a prime number.\")"
   ]
  },
  {
   "cell_type": "markdown",
   "id": "4210faeb-e460-46e7-93a8-b0eafc541253",
   "metadata": {},
   "source": [
    "28. Create a program that sorts three numbers in ascending order using conditional statements."
   ]
  },
  {
   "cell_type": "code",
   "execution_count": 3,
   "id": "827e4d6e-03c3-477b-a5fa-19367043e2c0",
   "metadata": {},
   "outputs": [
    {
     "name": "stdin",
     "output_type": "stream",
     "text": [
      "Enter the first number:  5\n",
      "Enter the second number:  3\n",
      "Enter the third number:  9\n"
     ]
    },
    {
     "name": "stdout",
     "output_type": "stream",
     "text": [
      "Numbers in ascending order: (3.0, 5.0, 9.0)\n"
     ]
    }
   ],
   "source": [
    "num1 = float(input(\"Enter the first number: \"))\n",
    "num2 = float(input(\"Enter the second number: \"))\n",
    "num3 = float(input(\"Enter the third number: \"))\n",
    "\n",
    "if num1 <= num2 <= num3:\n",
    "    sorted_nums = (num1, num2, num3)\n",
    "elif num1 <= num3 <= num2:\n",
    "    sorted_nums = (num1, num3, num2)\n",
    "elif num2 <= num1 <= num3:\n",
    "    sorted_nums = (num2, num1, num3)\n",
    "elif num2 <= num3 <= num1:\n",
    "    sorted_nums = (num2, num3, num1)\n",
    "elif num3 <= num1 <= num2:\n",
    "    sorted_nums = (num3, num1, num2)\n",
    "else:\n",
    "    sorted_nums = (num3, num2, num1)\n",
    "\n",
    "print(\"Numbers in ascending order:\", sorted_nums)\n"
   ]
  },
  {
   "cell_type": "markdown",
   "id": "15d34ee7-08e6-43b8-aee8-cf4305ee63e2",
   "metadata": {},
   "source": [
    "29. Build a program that determines the roots of a quartic equation using numerical methods."
   ]
  },
  {
   "cell_type": "code",
   "execution_count": 4,
   "id": "bd9ed464-d391-4418-bea2-a72a6efdf80f",
   "metadata": {},
   "outputs": [
    {
     "name": "stdout",
     "output_type": "stream",
     "text": [
      "Roots of the quartic equation:\n",
      "Root: 1.58340200429759\n",
      "Root: 0.820993030471477 - 0.51955343949685*I\n",
      "Root: 0.820993030471477 + 0.51955343949685*I\n",
      "Root: -0.892054731907205\n"
     ]
    }
   ],
   "source": [
    "from sympy import symbols, solve\n",
    "x = symbols('x')\n",
    "equation = 3 * x**4 - 7 * x**3 + 2 * x**2 + 5 * x - 4\n",
    "roots = solve(equation, x)\n",
    "print(\"Roots of the quartic equation:\")\n",
    "for root in roots:\n",
    "    print(f\"Root: {root.evalf()}\")  "
   ]
  },
  {
   "cell_type": "markdown",
   "id": "e133bd19-61f3-4250-9e94-71554d0a5b9b",
   "metadata": {},
   "source": [
    "30. Write a program that calculates the BMI (Body Mass Index) and provides health recommendations based\n",
    "on the user's input."
   ]
  },
  {
   "cell_type": "code",
   "execution_count": 6,
   "id": "78e3548d-2cd7-46cd-b87c-105b103a219b",
   "metadata": {},
   "outputs": [
    {
     "name": "stdin",
     "output_type": "stream",
     "text": [
      "Enter your weight in kilograms:  55\n",
      "Enter your height in meters:  1.5\n"
     ]
    },
    {
     "name": "stdout",
     "output_type": "stream",
     "text": [
      "Your BMI is: 24.44\n",
      "You have a normal weight. Keep up the good work!\n"
     ]
    }
   ],
   "source": [
    "weight = float(input(\"Enter your weight in kilograms: \"))\n",
    "height = float(input(\"Enter your height in meters: \"))\n",
    "\n",
    "bmi = weight / (height ** 2)\n",
    "\n",
    "print(f\"Your BMI is: {bmi:.2f}\")\n",
    "\n",
    "if bmi < 18.5:\n",
    "    print(\"You are underweight. It's recommended to gain weight.\")\n",
    "elif 18.5 <= bmi < 25:\n",
    "    print(\"You have a normal weight. Keep up the good work!\")\n",
    "elif 25 <= bmi < 30:\n",
    "    print(\"You are overweight. It's recommended to lose some weight.\")\n",
    "else:\n",
    "    print(\"You are obese. It's highly recommended to lose weight for your health.\")\n"
   ]
  },
  {
   "cell_type": "markdown",
   "id": "0a68a55e-198b-430e-87d1-9cbff8b022de",
   "metadata": {},
   "source": [
    "Challenge Level:\n",
    "    \n",
    "31. Create a program that validates a password based on complexity rules (length, characters, etc.)."
   ]
  },
  {
   "cell_type": "code",
   "execution_count": 9,
   "id": "2a16bb95-74e9-452f-9419-18fb21b1cba1",
   "metadata": {},
   "outputs": [
    {
     "name": "stdin",
     "output_type": "stream",
     "text": [
      "Enter your password:  Saibhargavi@13\n"
     ]
    },
    {
     "name": "stdout",
     "output_type": "stream",
     "text": [
      "Password is valid!\n"
     ]
    }
   ],
   "source": [
    "password = input(\"Enter your password: \")\n",
    "\n",
    "# Check length\n",
    "if len(password) < 8:\n",
    "    print(\"Password should be at least 8 characters long.\")\n",
    "else:\n",
    "    # Check for at least one uppercase, lowercase, digit, and special character\n",
    "    has_uppercase = any(char.isupper() for char in password)\n",
    "    has_lowercase = any(char.islower() for char in password)\n",
    "    has_digit = any(char.isdigit() for char in password)\n",
    "    has_special = any(not char.isalnum() for char in password)\n",
    "\n",
    "    if not (has_uppercase and has_lowercase and has_digit and has_special):\n",
    "        print(\"Password should contain at least one uppercase letter, one lowercase letter, one digit, and one special character.\")\n",
    "    else:\n",
    "        print(\"Password is valid!\")\n"
   ]
  },
  {
   "cell_type": "markdown",
   "id": "348aa64e-f382-452d-971c-d27b7c3e08c6",
   "metadata": {},
   "source": [
    "32. Develop a program that performs matrix addition and subtraction based on user input."
   ]
  },
  {
   "cell_type": "code",
   "execution_count": 4,
   "id": "520326e4-e486-4e11-b5db-aa6d935a0e9f",
   "metadata": {},
   "outputs": [
    {
     "name": "stdout",
     "output_type": "stream",
     "text": [
      "Enter elements for Matrix 1 (2x2):\n"
     ]
    },
    {
     "name": "stdin",
     "output_type": "stream",
     "text": [
      " 2\n",
      " 5\n",
      " 4\n",
      " 3\n"
     ]
    },
    {
     "name": "stdout",
     "output_type": "stream",
     "text": [
      "Enter elements for Matrix 2 (2x2):\n"
     ]
    },
    {
     "name": "stdin",
     "output_type": "stream",
     "text": [
      " 6\n",
      " 4\n",
      " 3\n",
      " 7\n"
     ]
    },
    {
     "name": "stdout",
     "output_type": "stream",
     "text": [
      "\n",
      "Matrix Addition Result:\n",
      "[8, 9]\n",
      "[7, 10]\n",
      "\n",
      "Matrix Subtraction Result:\n",
      "[-4, 1]\n",
      "[1, -4]\n"
     ]
    }
   ],
   "source": [
    "# Input elements for matrix 1\n",
    "print(\"Enter elements for Matrix 1 (2x2):\")\n",
    "matrix1 = [[int(input()) for i in range(2)] for i in range(2)]\n",
    "\n",
    "# Input elements for matrix 2\n",
    "print(\"Enter elements for Matrix 2 (2x2):\")\n",
    "matrix2 = [[int(input()) for i in range(2)] for i in range(2)]\n",
    "\n",
    "# Perform matrix addition\n",
    "addition_result = [[matrix1[i][j] + matrix2[i][j] for j in range(2)] for i in range(2)]\n",
    "\n",
    "# Perform matrix subtraction\n",
    "subtraction_result = [[matrix1[i][j] - matrix2[i][j] for j in range(2)] for i in range(2)]\n",
    "\n",
    "# Display results\n",
    "print(\"\\nMatrix Addition Result:\")\n",
    "for row in addition_result:\n",
    "    print(row)\n",
    "\n",
    "print(\"\\nMatrix Subtraction Result:\")\n",
    "for row in subtraction_result:\n",
    "    print(row)\n"
   ]
  },
  {
   "cell_type": "markdown",
   "id": "2b585ced-2eef-4f3a-b6be-203ac78ee364",
   "metadata": {},
   "source": [
    "33. Write a program that calculates the greatest common divisor (GCD) of two numbers using the Euclidean\n",
    "algorithm."
   ]
  },
  {
   "cell_type": "code",
   "execution_count": 3,
   "id": "49abd994-15a5-43d2-9fc5-3a3deb21390e",
   "metadata": {},
   "outputs": [
    {
     "name": "stdin",
     "output_type": "stream",
     "text": [
      "Enter first number:  2\n",
      "Enter second number:  4\n"
     ]
    },
    {
     "name": "stdout",
     "output_type": "stream",
     "text": [
      "The GCD of the numbers is: 2\n"
     ]
    }
   ],
   "source": [
    "num1 = int(input(\"Enter first number: \"))\n",
    "num2 = int(input(\"Enter second number: \"))\n",
    "\n",
    "while num2 != 0:\n",
    "    if num1 > num2:\n",
    "        num1 = num1 - num2\n",
    "    else:\n",
    "        num2 = num2 - num1\n",
    "\n",
    "gcd = num1\n",
    "print(f\"The GCD of the numbers is: {gcd}\")\n"
   ]
  },
  {
   "cell_type": "markdown",
   "id": "87dd1b88-5bcb-4c53-8dcd-b63fa602b6a8",
   "metadata": {},
   "source": [
    "34. Build a program that performs matrix multiplication using nested loops and conditional statements."
   ]
  },
  {
   "cell_type": "code",
   "execution_count": 1,
   "id": "4cdfd8e2-cb44-471d-bdad-62589c2ca394",
   "metadata": {},
   "outputs": [
    {
     "name": "stdout",
     "output_type": "stream",
     "text": [
      "Result of matrix multiplication:\n",
      "[58, 64]\n",
      "[139, 154]\n"
     ]
    }
   ],
   "source": [
    "# Example matrices\n",
    "matrix_A = [\n",
    "    [1, 2, 3],\n",
    "    [4, 5, 6],\n",
    "]\n",
    "\n",
    "matrix_B = [\n",
    "    [7, 8],\n",
    "    [9, 10],\n",
    "    [11, 12],\n",
    "]\n",
    "\n",
    "# Check if matrices can be multiplied\n",
    "if len(matrix_A[0]) != len(matrix_B):\n",
    "    print(\"Matrices cannot be multiplied!\")\n",
    "else:\n",
    "    result_matrix = []\n",
    "    for i in range(len(matrix_A)):\n",
    "        row = []\n",
    "        for j in range(len(matrix_B[0])):\n",
    "            total = 0\n",
    "            for k in range(len(matrix_B)):\n",
    "                total += matrix_A[i][k] * matrix_B[k][j]\n",
    "            row.append(total)\n",
    "        result_matrix.append(row)\n",
    "\n",
    "    # Display the result\n",
    "    print(\"Result of matrix multiplication:\")\n",
    "    for row in result_matrix:\n",
    "        print(row)\n"
   ]
  },
  {
   "cell_type": "markdown",
   "id": "a0dab5d1-d85b-4f78-bf7b-2ea510e00f7c",
   "metadata": {},
   "source": [
    "35. Create a program that simulates a basic text-based tic-tac-toe game against the computer."
   ]
  },
  {
   "cell_type": "code",
   "execution_count": 20,
   "id": "cb76f378-9851-4f0f-b711-b0231e16c62c",
   "metadata": {},
   "outputs": [
    {
     "name": "stdout",
     "output_type": "stream",
     "text": [
      "Welcome to Tic-Tac-Toe!\n",
      "     \n",
      "     \n",
      "     \n"
     ]
    },
    {
     "name": "stdin",
     "output_type": "stream",
     "text": [
      "Enter your move (row col):  1 1\n"
     ]
    },
    {
     "name": "stdout",
     "output_type": "stream",
     "text": [
      "     \n",
      "  X  \n",
      "     \n",
      "Computer's turn:\n",
      "Computer placed an 'O' at row 0, col 0\n",
      "O    \n",
      "  X  \n",
      "     \n"
     ]
    },
    {
     "name": "stdin",
     "output_type": "stream",
     "text": [
      "Enter your move (row col):  0 1\n"
     ]
    },
    {
     "name": "stdout",
     "output_type": "stream",
     "text": [
      "O X  \n",
      "  X  \n",
      "     \n",
      "Computer's turn:\n",
      "Computer placed an 'O' at row 1, col 2\n",
      "O X  \n",
      "  X O\n",
      "     \n"
     ]
    },
    {
     "name": "stdin",
     "output_type": "stream",
     "text": [
      "Enter your move (row col):  2 1\n"
     ]
    },
    {
     "name": "stdout",
     "output_type": "stream",
     "text": [
      "O X  \n",
      "  X O\n",
      "  X  \n",
      "X wins!\n"
     ]
    }
   ],
   "source": [
    "import random\n",
    "\n",
    "# Initialize the board\n",
    "board = [[' ' for _ in range(3)] for _ in range(3)]\n",
    "\n",
    "# Function to print the board\n",
    "def print_board():\n",
    "    for row in board:\n",
    "        print(\" \".join(row))\n",
    "\n",
    "# Function to check for a winner\n",
    "def check_winner(player):\n",
    "    # Check rows, columns, and diagonals for a win\n",
    "    for row in board:\n",
    "        if all(cell == player for cell in row):\n",
    "            return True\n",
    "\n",
    "    for col in range(3):\n",
    "        if all(board[row][col] == player for row in range(3)):\n",
    "            return True\n",
    "\n",
    "    if all(board[i][i] == player for i in range(3)) or all(board[i][2 - i] == player for i in range(3)):\n",
    "        return True\n",
    "\n",
    "    return False\n",
    "\n",
    "# Function to check if the board is full\n",
    "def is_board_full():\n",
    "    return all(cell != ' ' for row in board for cell in row)\n",
    "\n",
    "players = ['X', 'O']\n",
    "current_player = random.choice(players)\n",
    "print(\"Welcome to Tic-Tac-Toe!\")\n",
    "print_board()\n",
    "\n",
    "while True:\n",
    "    if current_player == 'X':\n",
    "        row, col = map(int, input(\"Enter your move (row col): \").split())\n",
    "        if board[row][col] != ' ':\n",
    "            print(\"Invalid move! Try again.\")\n",
    "            continue\n",
    "        board[row][col] = current_player\n",
    "    else:\n",
    "        print(\"Computer's turn:\")\n",
    "        row, col = random.choice([(i, j) for i in range(3) for j in range(3) if board[i][j] == ' '])\n",
    "        board[row][col] = current_player\n",
    "        print(f\"Computer placed an '{current_player}' at row {row}, col {col}\")\n",
    "\n",
    "    # Print the updated board\n",
    "    for row in board:\n",
    "        print(\" \".join(row))\n",
    "\n",
    "    # Check for a winner or tie\n",
    "    winner = None\n",
    "    for player in players:\n",
    "        if check_winner(player):\n",
    "            winner = player\n",
    "            break\n",
    "\n",
    "    if winner:\n",
    "        print(f\"{winner} wins!\")\n",
    "        break\n",
    "    elif is_board_full():\n",
    "        print(\"It's a tie!\")\n",
    "        break\n",
    "\n",
    "    current_player = 'X' if current_player == 'O' else 'O'"
   ]
  },
  {
   "cell_type": "markdown",
   "id": "db9a3caf-ad25-4bb5-b80f-a7a5586b764c",
   "metadata": {},
   "source": [
    "36. Write a program that generates Fibonacci numbers up to a specified term using iterative methods."
   ]
  },
  {
   "cell_type": "code",
   "execution_count": 21,
   "id": "e1d32a46-b6ed-447a-b646-15fd38e3eb0a",
   "metadata": {},
   "outputs": [
    {
     "name": "stdin",
     "output_type": "stream",
     "text": [
      "Enter the number of terms for Fibonacci series:  5\n"
     ]
    },
    {
     "name": "stdout",
     "output_type": "stream",
     "text": [
      "Fibonacci series up to term 5:\n",
      "[0, 1, 1, 2, 3]\n"
     ]
    }
   ],
   "source": [
    "# Get user input for the number of terms\n",
    "num_terms = int(input(\"Enter the number of terms for Fibonacci series: \"))\n",
    "\n",
    "if num_terms <= 0:\n",
    "    print(\"Please enter a positive integer.\")\n",
    "else:\n",
    "    fibonacci_series = []\n",
    "    a, b = 0, 1\n",
    "\n",
    "    for i in range(num_terms):\n",
    "        fibonacci_series.append(a)\n",
    "        a, b = b, a + b\n",
    "\n",
    "    print(f\"Fibonacci series up to term {num_terms}:\")\n",
    "    print(fibonacci_series)"
   ]
  },
  {
   "cell_type": "markdown",
   "id": "cfaa962d-c8a0-4c08-9899-1fb973a29851",
   "metadata": {},
   "source": [
    "37. Develop a program that calculates the nth term of the Fibonacci sequence using memoization."
   ]
  },
  {
   "cell_type": "code",
   "execution_count": 22,
   "id": "9f20b379-d0ca-48d0-a062-8ca320dd238e",
   "metadata": {},
   "outputs": [
    {
     "name": "stdin",
     "output_type": "stream",
     "text": [
      "Enter the term of the Fibonacci sequence to calculate:  6\n"
     ]
    },
    {
     "name": "stdout",
     "output_type": "stream",
     "text": [
      "The 6th term of the Fibonacci sequence is: 8\n"
     ]
    }
   ],
   "source": [
    "def fibonacci(n, memo={}):\n",
    "    if n in memo:\n",
    "        return memo[n]\n",
    "\n",
    "    if n <= 2:\n",
    "        return 1\n",
    "\n",
    "    memo[n] = fibonacci(n - 1, memo) + fibonacci(n - 2, memo)\n",
    "    return memo[n]\n",
    "\n",
    "# Get user input for the term of the Fibonacci sequence to calculate\n",
    "term = int(input(\"Enter the term of the Fibonacci sequence to calculate: \"))\n",
    "\n",
    "if term <= 0:\n",
    "    print(\"Please enter a positive integer.\")\n",
    "else:\n",
    "    result = fibonacci(term)\n",
    "    print(f\"The {term}th term of the Fibonacci sequence is: {result}\")"
   ]
  },
  {
   "cell_type": "markdown",
   "id": "e449c11f-f967-4629-bf5a-2077a342205a",
   "metadata": {},
   "source": [
    "38. Create a program that generates a calendar for a given month and year using conditional statements."
   ]
  },
  {
   "cell_type": "code",
   "execution_count": 23,
   "id": "37293d48-4b99-4e3e-a41e-8bb7e8cf5bd3",
   "metadata": {},
   "outputs": [
    {
     "name": "stdin",
     "output_type": "stream",
     "text": [
      "Enter the year:  2022\n",
      "Enter the month (1-12):  9\n"
     ]
    },
    {
     "name": "stdout",
     "output_type": "stream",
     "text": [
      "Calendar for September, 2022:\n",
      "\n",
      "   September 2022\n",
      "Mo Tu We Th Fr Sa Su\n",
      "          1  2  3  4\n",
      " 5  6  7  8  9 10 11\n",
      "12 13 14 15 16 17 18\n",
      "19 20 21 22 23 24 25\n",
      "26 27 28 29 30\n",
      "\n"
     ]
    }
   ],
   "source": [
    "import calendar\n",
    "\n",
    "# Get user input for the month and year\n",
    "year = int(input(\"Enter the year: \"))\n",
    "month = int(input(\"Enter the month (1-12): \"))\n",
    "\n",
    "# Check if the entered month and year are valid\n",
    "if month < 1 or month > 12:\n",
    "    print(\"Invalid month! Please enter a month between 1 and 12.\")\n",
    "else:\n",
    "    # Generate and print the calendar for the specified month and year\n",
    "    cal = calendar.month(year, month)\n",
    "    print(f\"Calendar for {calendar.month_name[month]}, {year}:\\n\")\n",
    "    print(cal)\n"
   ]
  },
  {
   "cell_type": "markdown",
   "id": "a7fd4ebf-8b9f-4fc5-98ad-615ddb994590",
   "metadata": {},
   "source": [
    "39. Build a program that simulates a basic text-based blackjack game against the computer."
   ]
  },
  {
   "cell_type": "code",
   "execution_count": 26,
   "id": "839954f7-150b-4a7c-90ea-1d310eb65ce1",
   "metadata": {},
   "outputs": [
    {
     "name": "stdout",
     "output_type": "stream",
     "text": [
      "Welcome to Blackjack!\n",
      "\n",
      "Player's cards: A 2\n",
      "Total value: 13\n",
      "\n",
      "Dealer's cards: 7 X\n",
      "Dealer's total value: 7\n"
     ]
    },
    {
     "name": "stdin",
     "output_type": "stream",
     "text": [
      "\n",
      "Do you want to hit or stand? (h/s):  h\n"
     ]
    },
    {
     "name": "stdout",
     "output_type": "stream",
     "text": [
      "\n",
      "Player's cards: A 2 6\n",
      "Total value: 19\n"
     ]
    },
    {
     "name": "stdin",
     "output_type": "stream",
     "text": [
      "\n",
      "Do you want to hit or stand? (h/s):  s\n"
     ]
    },
    {
     "name": "stdout",
     "output_type": "stream",
     "text": [
      "\n",
      "Dealer's cards: 7 9 3\n",
      "Dealer's total value: 19\n",
      "\n",
      "It's a tie!\n"
     ]
    }
   ],
   "source": [
    "import random\n",
    "\n",
    "# Initialize deck and deal initial cards\n",
    "suits = ['Hearts', 'Diamonds', 'Clubs', 'Spades']\n",
    "ranks = ['2', '3', '4', '5', '6', '7', '8', '9', '10', 'J', 'Q', 'K', 'A']\n",
    "deck = [rank for rank in ranks for suit in suits]\n",
    "random.shuffle(deck)\n",
    "\n",
    "player_hand = [deck.pop(), deck.pop()]\n",
    "dealer_hand = [deck.pop(), deck.pop()]\n",
    "\n",
    "# Display initial cards\n",
    "print(\"Welcome to Blackjack!\")\n",
    "print(\"\\nPlayer's cards:\", *player_hand)\n",
    "print(\"Total value:\", sum([10 if card in ['J', 'Q', 'K'] else int(card) if card != 'A' else 11 for card in player_hand]))\n",
    "\n",
    "print(\"\\nDealer's cards:\", dealer_hand[0], 'X')\n",
    "print(\"Dealer's total value:\", 10 if dealer_hand[0] in ['J', 'Q', 'K'] else int(dealer_hand[0]) if dealer_hand[0] != 'A' else 11)\n",
    "\n",
    "# Player's turn\n",
    "while True:\n",
    "    choice = input(\"\\nDo you want to hit or stand? (h/s): \").lower()\n",
    "    if choice == 'h':\n",
    "        player_hand.append(deck.pop())\n",
    "        print(\"\\nPlayer's cards:\", *player_hand)\n",
    "        total_value = sum([10 if card in ['J', 'Q', 'K'] else int(card) if card != 'A' else 11 for card in player_hand])\n",
    "        print(\"Total value:\", total_value)\n",
    "        if total_value > 21:\n",
    "            print(\"You busted! Dealer wins.\")\n",
    "            break\n",
    "    elif choice == 's':\n",
    "        break\n",
    "\n",
    "# Dealer's turn\n",
    "if sum([10 if card in ['J', 'Q', 'K'] else int(card) if card != 'A' else 11 for card in player_hand]) <= 21:\n",
    "    while sum([10 if card in ['J', 'Q', 'K'] else int(card) if card != 'A' else 11 for card in dealer_hand]) < 17:\n",
    "        dealer_hand.append(deck.pop())\n",
    "        print(\"\\nDealer's cards:\", *dealer_hand)\n",
    "        print(\"Dealer's total value:\", sum([10 if card in ['J', 'Q', 'K'] else int(card) if card != 'A' else 11 for card in dealer_hand]))\n",
    "\n",
    "    player_total = sum([10 if card in ['J', 'Q', 'K'] else int(card) if card != 'A' else 11 for card in player_hand])\n",
    "    dealer_total = sum([10 if card in ['J', 'Q', 'K'] else int(card) if card != 'A' else 11 for card in dealer_hand])\n",
    "\n",
    "    # Determine the winner\n",
    "    if dealer_total > 21:\n",
    "        print(\"\\nDealer busted! You win.\")\n",
    "    elif dealer_total == player_total:\n",
    "        print(\"\\nIt's a tie!\")\n",
    "    elif dealer_total > player_total:\n",
    "        print(\"\\nDealer wins.\")\n",
    "    else:\n",
    "        print(\"\\nYou win!\")"
   ]
  },
  {
   "cell_type": "markdown",
   "id": "6733edfa-eace-4a48-8b1b-bee391d00d7e",
   "metadata": {},
   "source": [
    "40. Write a program that generates the prime factors of a given number using trial division."
   ]
  },
  {
   "cell_type": "code",
   "execution_count": 27,
   "id": "5a301673-fa63-4324-b37e-833189a0cefa",
   "metadata": {},
   "outputs": [
    {
     "name": "stdin",
     "output_type": "stream",
     "text": [
      "Enter a number to find its prime factors:  12\n"
     ]
    },
    {
     "name": "stdout",
     "output_type": "stream",
     "text": [
      "The prime factors of 1 are: [2, 2, 3]\n"
     ]
    }
   ],
   "source": [
    "# Get user input for the number\n",
    "number = int(input(\"Enter a number to find its prime factors: \"))\n",
    "\n",
    "if number < 2:\n",
    "    print(\"Please enter a number greater than 1.\")\n",
    "else:\n",
    "    factors = []\n",
    "    divisor = 2\n",
    "\n",
    "    while number > 1:\n",
    "        while number % divisor == 0:\n",
    "            factors.append(divisor)\n",
    "            number //= divisor\n",
    "        divisor += 1\n",
    "\n",
    "    if len(factors) == 1:\n",
    "        print(f\"The number {number} is a prime number.\")\n",
    "    else:\n",
    "        print(f\"The prime factors of {number} are: {factors}\")\n"
   ]
  }
 ],
 "metadata": {
  "kernelspec": {
   "display_name": "Python 3 (ipykernel)",
   "language": "python",
   "name": "python3"
  },
  "language_info": {
   "codemirror_mode": {
    "name": "ipython",
    "version": 3
   },
   "file_extension": ".py",
   "mimetype": "text/x-python",
   "name": "python",
   "nbconvert_exporter": "python",
   "pygments_lexer": "ipython3",
   "version": "3.10.8"
  }
 },
 "nbformat": 4,
 "nbformat_minor": 5
}
